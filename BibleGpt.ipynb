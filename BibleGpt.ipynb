{
  "nbformat": 4,
  "nbformat_minor": 0,
  "metadata": {
    "colab": {
      "provenance": [],
      "gpuType": "T4",
      "authorship_tag": "ABX9TyNPOX7pNpCi+zXnHq7JToux",
      "include_colab_link": true
    },
    "kernelspec": {
      "name": "python3",
      "display_name": "Python 3"
    },
    "language_info": {
      "name": "python"
    },
    "accelerator": "GPU"
  },
  "cells": [
    {
      "cell_type": "markdown",
      "metadata": {
        "id": "view-in-github",
        "colab_type": "text"
      },
      "source": [
        "<a href=\"https://colab.research.google.com/github/salim4n/kaggle_competition/blob/main/BibleGpt.ipynb\" target=\"_parent\"><img src=\"https://colab.research.google.com/assets/colab-badge.svg\" alt=\"Open In Colab\"/></a>"
      ]
    },
    {
      "cell_type": "markdown",
      "source": [
        "#Bible Gpt"
      ],
      "metadata": {
        "id": "dyiFIhaDsxqY"
      }
    },
    {
      "cell_type": "markdown",
      "source": [
        "## Nettoyage data"
      ],
      "metadata": {
        "id": "EAKNpSBxs0kC"
      }
    },
    {
      "cell_type": "code",
      "source": [
        "with open('/content/fra-fraLSG.txt') as f:\n",
        "    lines = f.readlines()"
      ],
      "metadata": {
        "id": "6jJ58FAnsz7_"
      },
      "execution_count": 4,
      "outputs": []
    },
    {
      "cell_type": "code",
      "source": [
        "corpus = []\n",
        "for line in lines:\n",
        "  line = line.split('\\n')[0]\n",
        "  line = line.lower()\n",
        "  if line:\n",
        "    corpus.append(line)"
      ],
      "metadata": {
        "id": "jux-BVpUtwY3"
      },
      "execution_count": 5,
      "outputs": []
    },
    {
      "cell_type": "code",
      "source": [
        "len(corpus)"
      ],
      "metadata": {
        "colab": {
          "base_uri": "https://localhost:8080/"
        },
        "id": "QjnVlFp_uD7X",
        "outputId": "094a51bf-21c3-4731-e73c-808c4c9c87d9"
      },
      "execution_count": 6,
      "outputs": [
        {
          "output_type": "execute_result",
          "data": {
            "text/plain": [
              "31055"
            ]
          },
          "metadata": {},
          "execution_count": 6
        }
      ]
    },
    {
      "cell_type": "code",
      "source": [
        "corpus = corpus[:7000]"
      ],
      "metadata": {
        "id": "YKGAB_QlugbC"
      },
      "execution_count": 7,
      "outputs": []
    },
    {
      "cell_type": "markdown",
      "source": [
        "## Tokenisation"
      ],
      "metadata": {
        "id": "CsgmLLUhuuaN"
      }
    },
    {
      "cell_type": "code",
      "source": [
        "from tensorflow.keras.preprocessing.text import Tokenizer"
      ],
      "metadata": {
        "id": "xDh-2XaOurVQ"
      },
      "execution_count": 8,
      "outputs": []
    },
    {
      "cell_type": "code",
      "source": [
        "tokenizer = Tokenizer()"
      ],
      "metadata": {
        "id": "QH8KC2Zju6Fx"
      },
      "execution_count": 9,
      "outputs": []
    },
    {
      "cell_type": "code",
      "source": [
        "tokenizer.fit_on_texts(corpus)"
      ],
      "metadata": {
        "id": "3SbmkGJlu-Xg"
      },
      "execution_count": 10,
      "outputs": []
    },
    {
      "cell_type": "code",
      "source": [
        "len(tokenizer.word_index)"
      ],
      "metadata": {
        "colab": {
          "base_uri": "https://localhost:8080/"
        },
        "id": "XT9MJEOqvCUy",
        "outputId": "82f96557-1d4e-4639-8866-7844330037ce"
      },
      "execution_count": 11,
      "outputs": [
        {
          "output_type": "execute_result",
          "data": {
            "text/plain": [
              "9420"
            ]
          },
          "metadata": {},
          "execution_count": 11
        }
      ]
    },
    {
      "cell_type": "code",
      "source": [
        "corpus[3]"
      ],
      "metadata": {
        "colab": {
          "base_uri": "https://localhost:8080/",
          "height": 53
        },
        "id": "Zm3dvjl2vIi7",
        "outputId": "0fc63ced-6f32-4021-93ca-45ffdbdbef5e"
      },
      "execution_count": 12,
      "outputs": [
        {
          "output_type": "execute_result",
          "data": {
            "text/plain": [
              "'dieu vit que la lumière était bonne; et dieu sépara la lumière d’avec les ténèbres.'"
            ],
            "application/vnd.google.colaboratory.intrinsic+json": {
              "type": "string"
            }
          },
          "metadata": {},
          "execution_count": 12
        }
      ]
    },
    {
      "cell_type": "code",
      "source": [
        "seq = tokenizer.texts_to_sequences([corpus[3]])[0]"
      ],
      "metadata": {
        "id": "4QNI52YwvM8M"
      },
      "execution_count": 13,
      "outputs": []
    },
    {
      "cell_type": "code",
      "source": [
        "seq"
      ],
      "metadata": {
        "colab": {
          "base_uri": "https://localhost:8080/"
        },
        "id": "4nVWwEVovT_8",
        "outputId": "7077d978-9de8-45fd-a877-a806442868ff"
      },
      "execution_count": 14,
      "outputs": [
        {
          "output_type": "execute_result",
          "data": {
            "text/plain": [
              "[27, 279, 10, 4, 1840, 78, 1102, 1, 27, 2660, 4, 1840, 2284, 5, 1542]"
            ]
          },
          "metadata": {},
          "execution_count": 14
        }
      ]
    },
    {
      "cell_type": "code",
      "source": [
        "for i in range(1, len(seq)):\n",
        "  print(seq[:i+1])"
      ],
      "metadata": {
        "colab": {
          "base_uri": "https://localhost:8080/"
        },
        "id": "eNBChdKjvU9R",
        "outputId": "1af8cdd0-6be3-4676-ce34-a2194a8ee179"
      },
      "execution_count": 15,
      "outputs": [
        {
          "output_type": "stream",
          "name": "stdout",
          "text": [
            "[27, 279]\n",
            "[27, 279, 10]\n",
            "[27, 279, 10, 4]\n",
            "[27, 279, 10, 4, 1840]\n",
            "[27, 279, 10, 4, 1840, 78]\n",
            "[27, 279, 10, 4, 1840, 78, 1102]\n",
            "[27, 279, 10, 4, 1840, 78, 1102, 1]\n",
            "[27, 279, 10, 4, 1840, 78, 1102, 1, 27]\n",
            "[27, 279, 10, 4, 1840, 78, 1102, 1, 27, 2660]\n",
            "[27, 279, 10, 4, 1840, 78, 1102, 1, 27, 2660, 4]\n",
            "[27, 279, 10, 4, 1840, 78, 1102, 1, 27, 2660, 4, 1840]\n",
            "[27, 279, 10, 4, 1840, 78, 1102, 1, 27, 2660, 4, 1840, 2284]\n",
            "[27, 279, 10, 4, 1840, 78, 1102, 1, 27, 2660, 4, 1840, 2284, 5]\n",
            "[27, 279, 10, 4, 1840, 78, 1102, 1, 27, 2660, 4, 1840, 2284, 5, 1542]\n"
          ]
        }
      ]
    },
    {
      "cell_type": "code",
      "source": [
        "sequences = tokenizer.texts_to_sequences(corpus)"
      ],
      "metadata": {
        "id": "6GPWX3DCvi6R"
      },
      "execution_count": 16,
      "outputs": []
    },
    {
      "cell_type": "code",
      "source": [
        "input_sequences = []\n",
        "for seq in sequences:\n",
        "  for i in range(1, len(seq)):\n",
        "    data_line = seq[:i+1]\n",
        "    input_sequences.append(data_line)"
      ],
      "metadata": {
        "id": "-xPNzbW0v8Gn"
      },
      "execution_count": 17,
      "outputs": []
    },
    {
      "cell_type": "code",
      "source": [
        "(input_sequences[7:12])"
      ],
      "metadata": {
        "colab": {
          "base_uri": "https://localhost:8080/"
        },
        "id": "NsX7jmFEwSE5",
        "outputId": "b88cd163-6e9f-43d5-d483-f36202c74e2e"
      },
      "execution_count": 18,
      "outputs": [
        {
          "output_type": "execute_result",
          "data": {
            "text/plain": [
              "[[29, 2046, 27, 1541, 5, 549, 1, 4, 91],\n",
              " [4, 91],\n",
              " [4, 91, 78],\n",
              " [4, 91, 78, 5561],\n",
              " [4, 91, 78, 5561, 1]]"
            ]
          },
          "metadata": {},
          "execution_count": 18
        }
      ]
    },
    {
      "cell_type": "markdown",
      "source": [
        "## Padding"
      ],
      "metadata": {
        "id": "yAHRPV03wpdy"
      }
    },
    {
      "cell_type": "code",
      "source": [
        "max([len(x) for x in input_sequences])"
      ],
      "metadata": {
        "colab": {
          "base_uri": "https://localhost:8080/"
        },
        "id": "Mx63L2cXxK5s",
        "outputId": "ae2fa7ed-0582-497a-d93a-86692d8a535a"
      },
      "execution_count": 19,
      "outputs": [
        {
          "output_type": "execute_result",
          "data": {
            "text/plain": [
              "66"
            ]
          },
          "metadata": {},
          "execution_count": 19
        }
      ]
    },
    {
      "cell_type": "code",
      "source": [
        "from tensorflow.keras.preprocessing.sequence import pad_sequences"
      ],
      "metadata": {
        "id": "qGQ-IfUEwVkU"
      },
      "execution_count": 20,
      "outputs": []
    },
    {
      "cell_type": "code",
      "source": [
        "input_sequences = pad_sequences(input_sequences, padding=\"pre\", maxlen=66)"
      ],
      "metadata": {
        "id": "3AU29amlw8Ts"
      },
      "execution_count": 21,
      "outputs": []
    },
    {
      "cell_type": "markdown",
      "source": [
        "## Creation x_train et y_train"
      ],
      "metadata": {
        "id": "IAEaVse3xhsQ"
      }
    },
    {
      "cell_type": "code",
      "source": [
        "x_train = input_sequences[:, :-1]\n",
        "y_train = input_sequences[:, -1]"
      ],
      "metadata": {
        "id": "kfh-RL1Ixb-R"
      },
      "execution_count": 22,
      "outputs": []
    },
    {
      "cell_type": "code",
      "source": [
        "x_train"
      ],
      "metadata": {
        "colab": {
          "base_uri": "https://localhost:8080/"
        },
        "id": "rsBL1Ellx6wb",
        "outputId": "01f2a63a-db6b-413c-aeeb-39f497653fad"
      },
      "execution_count": 23,
      "outputs": [
        {
          "output_type": "execute_result",
          "data": {
            "text/plain": [
              "array([[   0,    0,    0, ...,    0,    0,   29],\n",
              "       [   0,    0,    0, ...,    0,   29, 2046],\n",
              "       [   0,    0,    0, ...,   29, 2046,   27],\n",
              "       ...,\n",
              "       [   0,    0,    0, ..., 1372,   41,   24],\n",
              "       [   0,    0,    0, ...,   41,   24,   10],\n",
              "       [   0,    0,    0, ...,   24,   10,  475]], dtype=int32)"
            ]
          },
          "metadata": {},
          "execution_count": 23
        }
      ]
    },
    {
      "cell_type": "code",
      "source": [
        "y_train"
      ],
      "metadata": {
        "colab": {
          "base_uri": "https://localhost:8080/"
        },
        "id": "jVreEaZEyNHt",
        "outputId": "d83c2a7a-b367-48f5-8750-90e9287b1325"
      },
      "execution_count": 24,
      "outputs": [
        {
          "output_type": "execute_result",
          "data": {
            "text/plain": [
              "array([2046,   27, 1541, ...,   10,  475,   11], dtype=int32)"
            ]
          },
          "metadata": {},
          "execution_count": 24
        }
      ]
    },
    {
      "cell_type": "code",
      "source": [
        "import tensorflow as tf"
      ],
      "metadata": {
        "id": "lzWTnPi5y32s"
      },
      "execution_count": 25,
      "outputs": []
    },
    {
      "cell_type": "code",
      "source": [
        "tf.keras.utils.to_categorical([4,2,1])"
      ],
      "metadata": {
        "colab": {
          "base_uri": "https://localhost:8080/"
        },
        "id": "DmOWYbLyyOUt",
        "outputId": "ea08f68d-41f2-4d13-9daa-a95e091993da"
      },
      "execution_count": 26,
      "outputs": [
        {
          "output_type": "execute_result",
          "data": {
            "text/plain": [
              "array([[0., 0., 0., 0., 1.],\n",
              "       [0., 0., 1., 0., 0.],\n",
              "       [0., 1., 0., 0., 0.]], dtype=float32)"
            ]
          },
          "metadata": {},
          "execution_count": 26
        }
      ]
    },
    {
      "cell_type": "code",
      "source": [
        "y_train = tf.keras.utils.to_categorical(y_train)"
      ],
      "metadata": {
        "id": "7Hg_LKHby5-l"
      },
      "execution_count": 27,
      "outputs": []
    },
    {
      "cell_type": "code",
      "source": [
        "y_train.shape"
      ],
      "metadata": {
        "colab": {
          "base_uri": "https://localhost:8080/"
        },
        "id": "tNwdj9BZzH2X",
        "outputId": "d065fda5-bfd6-435b-eb6f-9af694c432ba"
      },
      "execution_count": 28,
      "outputs": [
        {
          "output_type": "execute_result",
          "data": {
            "text/plain": [
              "(163770, 9421)"
            ]
          },
          "metadata": {},
          "execution_count": 28
        }
      ]
    },
    {
      "cell_type": "markdown",
      "source": [
        "## Modeling"
      ],
      "metadata": {
        "id": "UN8xvKtuzdzl"
      }
    },
    {
      "cell_type": "code",
      "source": [
        "import numpy as np"
      ],
      "metadata": {
        "id": "c6ZyHx0pzQn7"
      },
      "execution_count": 29,
      "outputs": []
    },
    {
      "cell_type": "code",
      "source": [
        "np.power(66, 1/4)"
      ],
      "metadata": {
        "colab": {
          "base_uri": "https://localhost:8080/"
        },
        "id": "9Rl39pqTzhyl",
        "outputId": "e4d6dbbb-9d72-4ba0-d523-dc98187e993c"
      },
      "execution_count": 30,
      "outputs": [
        {
          "output_type": "execute_result",
          "data": {
            "text/plain": [
              "2.8502698827717983"
            ]
          },
          "metadata": {},
          "execution_count": 30
        }
      ]
    },
    {
      "cell_type": "code",
      "source": [
        "model = tf.keras.models.Sequential(\n",
        "    [\n",
        "        tf.keras.layers.Embedding(9421, 16),\n",
        "        tf.keras.layers.Bidirectional(tf.keras.layers.LSTM(64)),\n",
        "        tf.keras.layers.Dense(9421, activation='softmax'),\n",
        "\n",
        "    ]\n",
        ")\n",
        "\n",
        "model.compile(loss='categorical_crossentropy', optimizer=\"adam\", metrics=['accuracy'])"
      ],
      "metadata": {
        "id": "gk_aqfwrzkSa"
      },
      "execution_count": 31,
      "outputs": []
    },
    {
      "cell_type": "code",
      "source": [
        "model.summary()"
      ],
      "metadata": {
        "colab": {
          "base_uri": "https://localhost:8080/"
        },
        "id": "hVguReYBzm53",
        "outputId": "c63785be-f3b4-4ff8-b550-5c5e20648e81"
      },
      "execution_count": 32,
      "outputs": [
        {
          "output_type": "stream",
          "name": "stdout",
          "text": [
            "Model: \"sequential\"\n",
            "_________________________________________________________________\n",
            " Layer (type)                Output Shape              Param #   \n",
            "=================================================================\n",
            " embedding (Embedding)       (None, None, 16)          150736    \n",
            "                                                                 \n",
            " bidirectional (Bidirectiona  (None, 128)              41472     \n",
            " l)                                                              \n",
            "                                                                 \n",
            " dense (Dense)               (None, 9421)              1215309   \n",
            "                                                                 \n",
            "=================================================================\n",
            "Total params: 1,407,517\n",
            "Trainable params: 1,407,517\n",
            "Non-trainable params: 0\n",
            "_________________________________________________________________\n"
          ]
        }
      ]
    },
    {
      "cell_type": "code",
      "source": [
        "h = model.fit(x_train, y_train, epochs=20, batch_size=1024)"
      ],
      "metadata": {
        "colab": {
          "base_uri": "https://localhost:8080/"
        },
        "id": "4pbDbW6gzovG",
        "outputId": "b849624c-cf77-4a4b-def9-c510e7a4a901"
      },
      "execution_count": 33,
      "outputs": [
        {
          "output_type": "stream",
          "name": "stdout",
          "text": [
            "Epoch 1/20\n",
            "160/160 [==============================] - 38s 175ms/step - loss: 6.9211 - accuracy: 0.0464\n",
            "Epoch 2/20\n",
            "160/160 [==============================] - 18s 114ms/step - loss: 6.4261 - accuracy: 0.0480\n",
            "Epoch 3/20\n",
            "160/160 [==============================] - 13s 80ms/step - loss: 6.2375 - accuracy: 0.0562\n",
            "Epoch 4/20\n",
            "160/160 [==============================] - 12s 74ms/step - loss: 6.0917 - accuracy: 0.0678\n",
            "Epoch 5/20\n",
            "160/160 [==============================] - 11s 68ms/step - loss: 5.9881 - accuracy: 0.0739\n",
            "Epoch 6/20\n",
            "160/160 [==============================] - 12s 74ms/step - loss: 5.9175 - accuracy: 0.0777\n",
            "Epoch 7/20\n",
            "160/160 [==============================] - 9s 59ms/step - loss: 5.8616 - accuracy: 0.0807\n",
            "Epoch 8/20\n",
            "160/160 [==============================] - 9s 58ms/step - loss: 5.8001 - accuracy: 0.0856\n",
            "Epoch 9/20\n",
            "160/160 [==============================] - 9s 58ms/step - loss: 5.7264 - accuracy: 0.0915\n",
            "Epoch 10/20\n",
            "160/160 [==============================] - 9s 58ms/step - loss: 5.6450 - accuracy: 0.0971\n",
            "Epoch 11/20\n",
            "160/160 [==============================] - 9s 58ms/step - loss: 5.5674 - accuracy: 0.1040\n",
            "Epoch 12/20\n",
            "160/160 [==============================] - 9s 59ms/step - loss: 5.4944 - accuracy: 0.1109\n",
            "Epoch 13/20\n",
            "160/160 [==============================] - 10s 61ms/step - loss: 5.4233 - accuracy: 0.1160\n",
            "Epoch 14/20\n",
            "160/160 [==============================] - 10s 63ms/step - loss: 5.3534 - accuracy: 0.1226\n",
            "Epoch 15/20\n",
            "160/160 [==============================] - 9s 53ms/step - loss: 5.2848 - accuracy: 0.1293\n",
            "Epoch 16/20\n",
            "160/160 [==============================] - 9s 53ms/step - loss: 5.2209 - accuracy: 0.1359\n",
            "Epoch 17/20\n",
            "160/160 [==============================] - 9s 54ms/step - loss: 5.1605 - accuracy: 0.1408\n",
            "Epoch 18/20\n",
            "160/160 [==============================] - 8s 50ms/step - loss: 5.1024 - accuracy: 0.1459\n",
            "Epoch 19/20\n",
            "160/160 [==============================] - 9s 55ms/step - loss: 5.0476 - accuracy: 0.1508\n",
            "Epoch 20/20\n",
            "160/160 [==============================] - 9s 56ms/step - loss: 4.9941 - accuracy: 0.1549\n"
          ]
        }
      ]
    },
    {
      "cell_type": "markdown",
      "source": [
        "## Generer du texte"
      ],
      "metadata": {
        "id": "_zRLKKmL1tnz"
      }
    },
    {
      "cell_type": "code",
      "source": [
        "prompt = \"dieu est\""
      ],
      "metadata": {
        "id": "w4bVaOiK0XPk"
      },
      "execution_count": 34,
      "outputs": []
    },
    {
      "cell_type": "code",
      "source": [
        "prompt_seq = tokenizer.texts_to_sequences([prompt])\n",
        "prompt_seq"
      ],
      "metadata": {
        "colab": {
          "base_uri": "https://localhost:8080/"
        },
        "id": "-BbsN76c2HEd",
        "outputId": "3729b8e3-afb6-402d-ee38-1baed6b8e3a9"
      },
      "execution_count": 35,
      "outputs": [
        {
          "output_type": "execute_result",
          "data": {
            "text/plain": [
              "[[27, 45]]"
            ]
          },
          "metadata": {},
          "execution_count": 35
        }
      ]
    },
    {
      "cell_type": "code",
      "source": [
        "prompt_seq[0]"
      ],
      "metadata": {
        "colab": {
          "base_uri": "https://localhost:8080/"
        },
        "id": "BlvVa6wr2Jff",
        "outputId": "629ba3fd-a1c7-4cfc-91ad-4009c97121cc"
      },
      "execution_count": 36,
      "outputs": [
        {
          "output_type": "execute_result",
          "data": {
            "text/plain": [
              "[27, 45]"
            ]
          },
          "metadata": {},
          "execution_count": 36
        }
      ]
    },
    {
      "cell_type": "code",
      "source": [
        "prompt_x = pad_sequences([prompt_seq[0]], padding=\"pre\", maxlen=65)"
      ],
      "metadata": {
        "id": "AdCaryWh2LFB"
      },
      "execution_count": 37,
      "outputs": []
    },
    {
      "cell_type": "code",
      "source": [
        "prompt_x.shape"
      ],
      "metadata": {
        "colab": {
          "base_uri": "https://localhost:8080/"
        },
        "id": "uXiut9o52NC5",
        "outputId": "eeea5f9a-2c64-4c44-ebe5-7df8c6f3cf0a"
      },
      "execution_count": 38,
      "outputs": [
        {
          "output_type": "execute_result",
          "data": {
            "text/plain": [
              "(1, 65)"
            ]
          },
          "metadata": {},
          "execution_count": 38
        }
      ]
    },
    {
      "cell_type": "code",
      "source": [
        "prompt_x"
      ],
      "metadata": {
        "colab": {
          "base_uri": "https://localhost:8080/"
        },
        "id": "e1e5yGyE2PQk",
        "outputId": "b1cae359-d263-4597-d275-2b56980f2938"
      },
      "execution_count": 39,
      "outputs": [
        {
          "output_type": "execute_result",
          "data": {
            "text/plain": [
              "array([[ 0,  0,  0,  0,  0,  0,  0,  0,  0,  0,  0,  0,  0,  0,  0,  0,\n",
              "         0,  0,  0,  0,  0,  0,  0,  0,  0,  0,  0,  0,  0,  0,  0,  0,\n",
              "         0,  0,  0,  0,  0,  0,  0,  0,  0,  0,  0,  0,  0,  0,  0,  0,\n",
              "         0,  0,  0,  0,  0,  0,  0,  0,  0,  0,  0,  0,  0,  0,  0, 27,\n",
              "        45]], dtype=int32)"
            ]
          },
          "metadata": {},
          "execution_count": 39
        }
      ]
    },
    {
      "cell_type": "code",
      "source": [
        "pred = model.predict(prompt_x)"
      ],
      "metadata": {
        "colab": {
          "base_uri": "https://localhost:8080/"
        },
        "id": "AZoQD-Jx2Rl-",
        "outputId": "720ce7d0-8481-4a3d-9302-b71a55b3d340"
      },
      "execution_count": 40,
      "outputs": [
        {
          "output_type": "stream",
          "name": "stdout",
          "text": [
            "1/1 [==============================] - 1s 1s/step\n"
          ]
        }
      ]
    },
    {
      "cell_type": "code",
      "source": [
        "np.argmax(pred)"
      ],
      "metadata": {
        "colab": {
          "base_uri": "https://localhost:8080/"
        },
        "id": "ef1Q1ik42TaY",
        "outputId": "ba6f63f4-b0fa-4490-91d9-ef2c848c5d6d"
      },
      "execution_count": 41,
      "outputs": [
        {
          "output_type": "execute_result",
          "data": {
            "text/plain": [
              "4"
            ]
          },
          "metadata": {},
          "execution_count": 41
        }
      ]
    },
    {
      "cell_type": "code",
      "source": [
        "tokenizer.index_word"
      ],
      "metadata": {
        "colab": {
          "base_uri": "https://localhost:8080/"
        },
        "id": "373a49Zv2V1C",
        "outputId": "224d7dd7-a0b0-4297-eb86-321d670b4d5b"
      },
      "execution_count": 42,
      "outputs": [
        {
          "output_type": "execute_result",
          "data": {
            "text/plain": [
              "{1: 'et',\n",
              " 2: 'de',\n",
              " 3: 'le',\n",
              " 4: 'la',\n",
              " 5: 'les',\n",
              " 6: 'à',\n",
              " 7: 'il',\n",
              " 8: 'l’éternel',\n",
              " 9: 'des',\n",
              " 10: 'que',\n",
              " 11: 'vous',\n",
              " 12: 'qui',\n",
              " 13: 'tu',\n",
              " 14: 'pour',\n",
              " 15: 'en',\n",
              " 16: 'du',\n",
              " 17: 'dans',\n",
              " 18: 'un',\n",
              " 19: 'ne',\n",
              " 20: 'je',\n",
              " 21: 'ce',\n",
              " 22: 'sur',\n",
              " 23: 'fils',\n",
              " 24: 'dit',\n",
              " 25: 'ils',\n",
              " 26: 'son',\n",
              " 27: 'dieu',\n",
              " 28: 'lui',\n",
              " 29: 'au',\n",
              " 30: 'avec',\n",
              " 31: 'point',\n",
              " 32: 'pays',\n",
              " 33: 'une',\n",
              " 34: 'ton',\n",
              " 35: 'se',\n",
              " 36: 'moïse',\n",
              " 37: 'sa',\n",
              " 38: 'nous',\n",
              " 39: 'a',\n",
              " 40: 'ses',\n",
              " 41: 'leur',\n",
              " 42: 'd’israël',\n",
              " 43: 'enfants',\n",
              " 44: 'tout',\n",
              " 45: 'est',\n",
              " 46: 'pas',\n",
              " 47: 'tous',\n",
              " 48: 'par',\n",
              " 49: 'leurs',\n",
              " 50: 'toi',\n",
              " 51: 'sera',\n",
              " 52: 'comme',\n",
              " 53: 'devant',\n",
              " 54: 'car',\n",
              " 55: 'peuple',\n",
              " 56: 'c’est',\n",
              " 57: 'qu’il',\n",
              " 58: 'elle',\n",
              " 59: 'te',\n",
              " 60: 'si',\n",
              " 61: 'avait',\n",
              " 62: 'moi',\n",
              " 63: 'deux',\n",
              " 64: 'tes',\n",
              " 65: 'aux',\n",
              " 66: 'jour',\n",
              " 67: 'mon',\n",
              " 68: 'y',\n",
              " 69: 'mais',\n",
              " 70: 'voici',\n",
              " 71: 'fait',\n",
              " 72: 'on',\n",
              " 73: 'père',\n",
              " 74: 'femme',\n",
              " 75: 'sont',\n",
              " 76: 'vos',\n",
              " 77: 'fit',\n",
              " 78: 'était',\n",
              " 79: 'votre',\n",
              " 80: 'ces',\n",
              " 81: 'selon',\n",
              " 82: 'là',\n",
              " 83: 'ta',\n",
              " 84: 'homme',\n",
              " 85: 'contre',\n",
              " 86: 'maison',\n",
              " 87: 'ou',\n",
              " 88: 'toute',\n",
              " 89: 'jusqu’à',\n",
              " 90: 'vers',\n",
              " 91: 'terre',\n",
              " 92: 'milieu',\n",
              " 93: 'sacrificateur',\n",
              " 94: 'main',\n",
              " 95: 'aaron',\n",
              " 96: 'hommes',\n",
              " 97: 'jacob',\n",
              " 98: 'ainsi',\n",
              " 99: 'où',\n",
              " 100: 'afin',\n",
              " 101: 'plus',\n",
              " 102: 'ni',\n",
              " 103: 'fut',\n",
              " 104: 'toutes',\n",
              " 105: 'pharaon',\n",
              " 106: 'celui',\n",
              " 107: 'israël',\n",
              " 108: 'qu’ils',\n",
              " 109: 'ceux',\n",
              " 110: 'me',\n",
              " 111: 'tente',\n",
              " 112: 'd’égypte',\n",
              " 113: 'quand',\n",
              " 114: 'sept',\n",
              " 115: 'après',\n",
              " 116: 'josué',\n",
              " 117: 'villes',\n",
              " 118: 'roi',\n",
              " 119: 'd’un',\n",
              " 120: 'montagne',\n",
              " 121: 'joseph',\n",
              " 122: 'même',\n",
              " 123: 'entre',\n",
              " 124: 'cette',\n",
              " 125: 'eux',\n",
              " 126: 'l’autel',\n",
              " 127: 'jours',\n",
              " 128: 'sans',\n",
              " 129: 'sacrifice',\n",
              " 130: 'ville',\n",
              " 131: 'ma',\n",
              " 132: 'nom',\n",
              " 133: 'alors',\n",
              " 134: 'aura',\n",
              " 135: 'feu',\n",
              " 136: 'faire',\n",
              " 137: 'étaient',\n",
              " 138: 'ans',\n",
              " 139: 'j’ai',\n",
              " 140: 'aussi',\n",
              " 141: 'côté',\n",
              " 142: 'tribu',\n",
              " 143: 'lieu',\n",
              " 144: 'feras',\n",
              " 145: 'sang',\n",
              " 146: 'frère',\n",
              " 147: 'soit',\n",
              " 148: 'mains',\n",
              " 149: 'yeux',\n",
              " 150: 'dont',\n",
              " 151: 'pendant',\n",
              " 152: 'suis',\n",
              " 153: 'seront',\n",
              " 154: 'fera',\n",
              " 155: 'pères',\n",
              " 156: 'frères',\n",
              " 157: 'lorsque',\n",
              " 158: 'trois',\n",
              " 159: 'mort',\n",
              " 160: 'encore',\n",
              " 161: 'familles',\n",
              " 162: 'donna',\n",
              " 163: 'mes',\n",
              " 164: 'été',\n",
              " 165: 'd’or',\n",
              " 166: 'd’assignation',\n",
              " 167: 'parmi',\n",
              " 168: 'jourdain',\n",
              " 169: 'l’assemblée',\n",
              " 170: 'furent',\n",
              " 171: 'fille',\n",
              " 172: 'd’une',\n",
              " 173: 'dessus',\n",
              " 174: 'prit',\n",
              " 175: 'répondit',\n",
              " 176: 'cent',\n",
              " 177: 'cinq',\n",
              " 178: 'depuis',\n",
              " 179: 'parla',\n",
              " 180: 'désert',\n",
              " 181: 'donne',\n",
              " 182: 'as',\n",
              " 183: 'cet',\n",
              " 184: 'mille',\n",
              " 185: 'famille',\n",
              " 186: 'pourquoi',\n",
              " 187: 'camp',\n",
              " 188: 'dix',\n",
              " 189: 'abraham',\n",
              " 190: 'notre',\n",
              " 191: 'parce',\n",
              " 192: 'ont',\n",
              " 193: 'dirent',\n",
              " 194: 'tête',\n",
              " 195: 'cœur',\n",
              " 196: 'premier',\n",
              " 197: 'ordonné',\n",
              " 198: 'l’autre',\n",
              " 199: 'aujourd’hui',\n",
              " 200: 'vêtements',\n",
              " 201: 'sortir',\n",
              " 202: 'puis',\n",
              " 203: 'quatre',\n",
              " 204: 'filles',\n",
              " 205: 'elles',\n",
              " 206: 'choses',\n",
              " 207: 'sous',\n",
              " 208: 'l’on',\n",
              " 209: 'l’eau',\n",
              " 210: 'près',\n",
              " 211: 'n’y',\n",
              " 212: 'chez',\n",
              " 213: 'loi',\n",
              " 214: 'tabernacle',\n",
              " 215: 'eaux',\n",
              " 216: 'eut',\n",
              " 217: 'cela',\n",
              " 218: 'jusqu’au',\n",
              " 219: 'mer',\n",
              " 220: 'temps',\n",
              " 221: 'offrande',\n",
              " 222: 'seigneur',\n",
              " 223: 'donné',\n",
              " 224: 'maintenant',\n",
              " 225: 'paroles',\n",
              " 226: 'juda',\n",
              " 227: 'dénombrement',\n",
              " 228: 'impur',\n",
              " 229: 'auprès',\n",
              " 230: 'vingt',\n",
              " 231: 'serviteurs',\n",
              " 232: 'd’argent',\n",
              " 233: 'nos',\n",
              " 234: 'l’homme',\n",
              " 235: 'l’arche',\n",
              " 236: 'jeune',\n",
              " 237: 'chair',\n",
              " 238: 'face',\n",
              " 239: 'mois',\n",
              " 240: 'dieux',\n",
              " 241: 'voix',\n",
              " 242: 'vis',\n",
              " 243: 's’il',\n",
              " 244: 'corps',\n",
              " 245: 'firent',\n",
              " 246: 'péché',\n",
              " 247: 'nuit',\n",
              " 248: 'disant',\n",
              " 249: 'vie',\n",
              " 250: 'mère',\n",
              " 251: 'l’un',\n",
              " 252: 'gens',\n",
              " 253: 'l’entrée',\n",
              " 254: 'lévites',\n",
              " 255: 'mit',\n",
              " 256: 'n’est',\n",
              " 257: 'fais',\n",
              " 258: 'chacun',\n",
              " 259: 'chefs',\n",
              " 260: 'matin',\n",
              " 261: 'pur',\n",
              " 262: 'chose',\n",
              " 263: 'manassé',\n",
              " 264: 'l’offrande',\n",
              " 265: 'trente',\n",
              " 266: 'être',\n",
              " 267: 'cents',\n",
              " 268: 'possession',\n",
              " 269: 'isaac',\n",
              " 270: 'l’huile',\n",
              " 271: 'avez',\n",
              " 272: 'fois',\n",
              " 273: 'serviteur',\n",
              " 274: 'sicles',\n",
              " 275: 'canaan',\n",
              " 276: 'chef',\n",
              " 277: 'rien',\n",
              " 278: 'bois',\n",
              " 279: 'vit',\n",
              " 280: 'soixante',\n",
              " 281: 'six',\n",
              " 282: 'nations',\n",
              " 283: 'aller',\n",
              " 284: 'sanctuaire',\n",
              " 285: 'qu’elle',\n",
              " 286: 'égyptiens',\n",
              " 287: 'l’holocauste',\n",
              " 288: 'héritage',\n",
              " 289: 'plaie',\n",
              " 290: 'bien',\n",
              " 291: 'femmes',\n",
              " 292: 'partirent',\n",
              " 293: 'd’après',\n",
              " 294: 'taureau',\n",
              " 295: 'bélier',\n",
              " 296: 'parle',\n",
              " 297: 'balaam',\n",
              " 298: 'grand',\n",
              " 299: 'mangerez',\n",
              " 300: 'ai',\n",
              " 301: 'cause',\n",
              " 302: 'quarante',\n",
              " 303: 'donc',\n",
              " 304: 'commandements',\n",
              " 305: 'soir',\n",
              " 306: 'ciel',\n",
              " 307: 'bon',\n",
              " 308: 'cinquante',\n",
              " 309: 'ennemis',\n",
              " 310: 'habitants',\n",
              " 311: 'bétail',\n",
              " 312: 'champs',\n",
              " 313: 'amoréens',\n",
              " 314: 'brebis',\n",
              " 315: 'qu’on',\n",
              " 316: 's’est',\n",
              " 317: 'septième',\n",
              " 318: 'maisons',\n",
              " 319: 'postérité',\n",
              " 320: 'chaque',\n",
              " 321: 'né',\n",
              " 322: 'd’expiation',\n",
              " 323: 'alliance',\n",
              " 324: 'l’a',\n",
              " 325: 'sacrifices',\n",
              " 326: 'chemin',\n",
              " 327: 'grande',\n",
              " 328: 'ruben',\n",
              " 329: 's’en',\n",
              " 330: 'troupeaux',\n",
              " 331: 'galaad',\n",
              " 332: 'avaient',\n",
              " 333: 'pain',\n",
              " 334: 'égypte',\n",
              " 335: 'dis',\n",
              " 336: 'colère',\n",
              " 337: 'anciens',\n",
              " 338: 'personne',\n",
              " 339: 'd’aaron',\n",
              " 340: 'l’expiation',\n",
              " 341: 'porte',\n",
              " 342: 'leva',\n",
              " 343: 'moab',\n",
              " 344: 'peau',\n",
              " 345: 'pied',\n",
              " 346: 'ferez',\n",
              " 347: 'avons',\n",
              " 348: 'campèrent',\n",
              " 349: 'très',\n",
              " 350: 'm’a',\n",
              " 351: 'laban',\n",
              " 352: 'nombre',\n",
              " 353: 'service',\n",
              " 354: 'grâces',\n",
              " 355: 'n’en',\n",
              " 356: 'prends',\n",
              " 357: 'l’avait',\n",
              " 358: 'prendra',\n",
              " 359: 'place',\n",
              " 360: 'es',\n",
              " 361: 'd’eux',\n",
              " 362: 'ésaü',\n",
              " 363: 'd’actions',\n",
              " 364: 'l’orient',\n",
              " 365: 'ferai',\n",
              " 366: 'abram',\n",
              " 367: 'part',\n",
              " 368: 'donner',\n",
              " 369: 'an',\n",
              " 370: 'animaux',\n",
              " 371: 'mal',\n",
              " 372: 'noms',\n",
              " 373: 'graisse',\n",
              " 374: 'cananéens',\n",
              " 375: 'coudées',\n",
              " 376: 'sichem',\n",
              " 377: 'l’ordre',\n",
              " 378: 'lois',\n",
              " 379: 'agneaux',\n",
              " 380: 'mettras',\n",
              " 381: 'seul',\n",
              " 382: 'peur',\n",
              " 383: 'mourut',\n",
              " 384: 'vallée',\n",
              " 385: 'alla',\n",
              " 386: 'abimélec',\n",
              " 387: 'garde',\n",
              " 388: 'gad',\n",
              " 389: 'd’éphraïm',\n",
              " 390: 'appela',\n",
              " 391: 'aucun',\n",
              " 392: 'engendra',\n",
              " 393: 'tribus',\n",
              " 394: 'aucune',\n",
              " 395: 't',\n",
              " 396: 'midi',\n",
              " 397: 'va',\n",
              " 398: 'levain',\n",
              " 399: 'dire',\n",
              " 400: 'lin',\n",
              " 401: 'l’étranger',\n",
              " 402: 'sacrificateurs',\n",
              " 403: 'pratique',\n",
              " 404: 'beth',\n",
              " 405: 'années',\n",
              " 406: 'bœufs',\n",
              " 407: 'droite',\n",
              " 408: 'agneau',\n",
              " 409: 'sainte',\n",
              " 410: 'mangera',\n",
              " 411: 'autour',\n",
              " 412: 'banlieue',\n",
              " 413: 'pierre',\n",
              " 414: 'pris',\n",
              " 415: 'vu',\n",
              " 416: 'hors',\n",
              " 417: 'droit',\n",
              " 418: 'l’épée',\n",
              " 419: 'défaut',\n",
              " 420: 'lavera',\n",
              " 421: 'gédéon',\n",
              " 422: 'fleuve',\n",
              " 423: 't’a',\n",
              " 424: 'rois',\n",
              " 425: 'marche',\n",
              " 426: 'champ',\n",
              " 427: 'madian',\n",
              " 428: 'pierres',\n",
              " 429: 'sort',\n",
              " 430: 'aurez',\n",
              " 431: 'bœuf',\n",
              " 432: 'parole',\n",
              " 433: 'donnerai',\n",
              " 434: 'prochain',\n",
              " 435: 'éléazar',\n",
              " 436: 'bases',\n",
              " 437: 'seras',\n",
              " 438: 'enfanta',\n",
              " 439: 'sortit',\n",
              " 440: 'seulement',\n",
              " 441: 'philistins',\n",
              " 442: 'l’âge',\n",
              " 443: 'holocauste',\n",
              " 444: 'diras',\n",
              " 445: 'barres',\n",
              " 446: 'quelque',\n",
              " 447: 'autre',\n",
              " 448: 'douze',\n",
              " 449: 'prirent',\n",
              " 450: 'entrer',\n",
              " 451: 'prie',\n",
              " 452: 'guerre',\n",
              " 453: 'fleur',\n",
              " 454: 'farine',\n",
              " 455: 'mourir',\n",
              " 456: 'l’argent',\n",
              " 457: 'anneaux',\n",
              " 458: 'offrirez',\n",
              " 459: 'prendre',\n",
              " 460: 'ensuite',\n",
              " 461: 'sœur',\n",
              " 462: 'prendras',\n",
              " 463: 'année',\n",
              " 464: 'peuples',\n",
              " 465: 'nuée',\n",
              " 466: 'victime',\n",
              " 467: 'saint',\n",
              " 468: 'd’airain',\n",
              " 469: 'âgé',\n",
              " 470: 'avoir',\n",
              " 471: 'autres',\n",
              " 472: 'ici',\n",
              " 473: 'présence',\n",
              " 474: 'maître',\n",
              " 475: 'faites',\n",
              " 476: 'juré',\n",
              " 477: 'béliers',\n",
              " 478: 'ustensiles',\n",
              " 479: 'balak',\n",
              " 480: 'samson',\n",
              " 481: 'agréable',\n",
              " 482: 'quelqu’un',\n",
              " 483: 'passer',\n",
              " 484: 'dan',\n",
              " 485: 'descendants',\n",
              " 486: 'pieds',\n",
              " 487: 'bouc',\n",
              " 488: 'troupeau',\n",
              " 489: 'livre',\n",
              " 490: 'grâce',\n",
              " 491: 'reste',\n",
              " 492: 'lequel',\n",
              " 493: 'rachel',\n",
              " 494: 'lévi',\n",
              " 495: 'benjamin',\n",
              " 496: 'chandelier',\n",
              " 497: 'tapis',\n",
              " 498: 'offrira',\n",
              " 499: 'ait',\n",
              " 500: 'ordre',\n",
              " 501: 'comment',\n",
              " 502: 'quiconque',\n",
              " 503: 'noé',\n",
              " 504: 'd’entre',\n",
              " 505: 'autel',\n",
              " 506: 'perpétuelle',\n",
              " 507: 'mis',\n",
              " 508: 'témoignage',\n",
              " 509: 'ordonnances',\n",
              " 510: 'jéricho',\n",
              " 511: 'manger',\n",
              " 512: 'fin',\n",
              " 513: 'l’alliance',\n",
              " 514: 'avant',\n",
              " 515: 'servante',\n",
              " 516: 'l’ange',\n",
              " 517: 'pains',\n",
              " 518: 'boire',\n",
              " 519: 'auras',\n",
              " 520: 'prince',\n",
              " 521: 'allez',\n",
              " 522: 'porter',\n",
              " 523: 'repos',\n",
              " 524: 'parfum',\n",
              " 525: 'colonnes',\n",
              " 526: 'serez',\n",
              " 527: 'loin',\n",
              " 528: 'holocaustes',\n",
              " 529: 'odeur',\n",
              " 530: 'peut',\n",
              " 531: 'princes',\n",
              " 532: 'répondirent',\n",
              " 533: 'envoya',\n",
              " 534: 'l’égypte',\n",
              " 535: 'interdit',\n",
              " 536: 'd’armée',\n",
              " 537: 'mari',\n",
              " 538: 'restera',\n",
              " 539: 'sara',\n",
              " 540: 'demeure',\n",
              " 541: 'non',\n",
              " 542: 'propriété',\n",
              " 543: 'envers',\n",
              " 544: 'cramoisi',\n",
              " 545: 'consumé',\n",
              " 546: 'mettra',\n",
              " 547: 'portes',\n",
              " 548: 'd’ammon',\n",
              " 549: 'cieux',\n",
              " 550: 'plaine',\n",
              " 551: 'quoi',\n",
              " 552: 'monter',\n",
              " 553: 'torrent',\n",
              " 554: 'dira',\n",
              " 555: 'chars',\n",
              " 556: 'parvis',\n",
              " 557: 'offrandes',\n",
              " 558: 'troisième',\n",
              " 559: 'eu',\n",
              " 560: 'premiers',\n",
              " 561: 'bouche',\n",
              " 562: 'dès',\n",
              " 563: 'âme',\n",
              " 564: 'vin',\n",
              " 565: 'lot',\n",
              " 566: 'partit',\n",
              " 567: 'lorsqu’il',\n",
              " 568: 'l’occident',\n",
              " 569: 'sommes',\n",
              " 570: 'territoire',\n",
              " 571: 'soleil',\n",
              " 572: 'laisse',\n",
              " 573: 'd’autres',\n",
              " 574: 'lèpre',\n",
              " 575: 'puni',\n",
              " 576: 'brûlera',\n",
              " 577: 'second',\n",
              " 578: 'ayant',\n",
              " 579: 'nourriture',\n",
              " 580: 'devint',\n",
              " 581: 'mangeras',\n",
              " 582: 'venir',\n",
              " 583: 'entendu',\n",
              " 584: 'nés',\n",
              " 585: 'nudité',\n",
              " 586: 'béni',\n",
              " 587: 'nation',\n",
              " 588: 'pourra',\n",
              " 589: 'd’abraham',\n",
              " 590: 's’y',\n",
              " 591: 'n’a',\n",
              " 592: 'ordres',\n",
              " 593: 'touchera',\n",
              " 594: 'léa',\n",
              " 595: 'siméon',\n",
              " 596: 'zabulon',\n",
              " 597: 'd’autre',\n",
              " 598: 'vêtement',\n",
              " 599: 'limite',\n",
              " 600: 'servir',\n",
              " 601: 'l’éphod',\n",
              " 602: 'pétrie',\n",
              " 603: 'villages',\n",
              " 604: 'basan',\n",
              " 605: 'soient',\n",
              " 606: 'force',\n",
              " 607: 'visage',\n",
              " 608: 'donnera',\n",
              " 609: 'eurent',\n",
              " 610: 'vinrent',\n",
              " 611: 'sois',\n",
              " 612: 'lève',\n",
              " 613: 'rencontre',\n",
              " 614: 'personnes',\n",
              " 615: 'étranger',\n",
              " 616: 'blé',\n",
              " 617: 'vœu',\n",
              " 618: 'êtes',\n",
              " 619: 'morts',\n",
              " 620: 'verge',\n",
              " 621: 'planches',\n",
              " 622: 'expiatoire',\n",
              " 623: 'arbres',\n",
              " 624: 'voir',\n",
              " 625: 'couche',\n",
              " 626: 'sortira',\n",
              " 627: 'songe',\n",
              " 628: 'voile',\n",
              " 629: 'l’enfant',\n",
              " 630: 'montèrent',\n",
              " 631: 'nephthali',\n",
              " 632: 'coupable',\n",
              " 633: 'gloire',\n",
              " 634: 'observerez',\n",
              " 635: 'sinaï',\n",
              " 636: 'bleu',\n",
              " 637: 'espèce',\n",
              " 638: 'plaça',\n",
              " 639: 'oiseaux',\n",
              " 640: 'vais',\n",
              " 641: 'dehors',\n",
              " 642: 'mâle',\n",
              " 643: 'prix',\n",
              " 644: 'outre',\n",
              " 645: 'sicle',\n",
              " 646: 'd’ésaü',\n",
              " 647: 'l’ai',\n",
              " 648: 'esclave',\n",
              " 649: 'puits',\n",
              " 650: 'côtés',\n",
              " 651: 'derrière',\n",
              " 652: 'rebecca',\n",
              " 653: 'demi',\n",
              " 654: 'beau',\n",
              " 655: 'laisser',\n",
              " 656: 'fête',\n",
              " 657: 'quelconque',\n",
              " 658: 'moitié',\n",
              " 659: 'tables',\n",
              " 660: 'sihon',\n",
              " 661: 'fruit',\n",
              " 662: 'ci',\n",
              " 663: 'sujet',\n",
              " 664: 'neuf',\n",
              " 665: 'nord',\n",
              " 666: 'vint',\n",
              " 667: 'd’eau',\n",
              " 668: 'mets',\n",
              " 669: 'mettre',\n",
              " 670: 'approcher',\n",
              " 671: 'baal',\n",
              " 672: 'coupe',\n",
              " 673: 'rocher',\n",
              " 674: 'saintes',\n",
              " 675: 'l’héritage',\n",
              " 676: 'bénit',\n",
              " 677: 'maudit',\n",
              " 678: 'voie',\n",
              " 679: 'longueur',\n",
              " 680: 'souvenir',\n",
              " 681: 'sommet',\n",
              " 682: 'descendit',\n",
              " 683: 'arrivèrent',\n",
              " 684: 'chameaux',\n",
              " 685: 'donneras',\n",
              " 686: 'telle',\n",
              " 687: 'viens',\n",
              " 688: 'juge',\n",
              " 689: 'parlé',\n",
              " 690: 'parler',\n",
              " 691: 'armes',\n",
              " 692: 'branches',\n",
              " 693: 'présent',\n",
              " 694: 'abomination',\n",
              " 695: 'pourpre',\n",
              " 696: 'jephthé',\n",
              " 697: 'huit',\n",
              " 698: 'toujours',\n",
              " 699: 'frappa',\n",
              " 700: 'enceinte',\n",
              " 701: 'partir',\n",
              " 702: 'bord',\n",
              " 703: 'gros',\n",
              " 704: 'libation',\n",
              " 705: 'sabbat',\n",
              " 706: 'd’acacia',\n",
              " 707: 'sacerdoce',\n",
              " 708: 'nun',\n",
              " 709: 'culpabilité',\n",
              " 710: 'caleb',\n",
              " 711: 'hesbon',\n",
              " 712: 'serai',\n",
              " 713: 'tentes',\n",
              " 714: 'largeur',\n",
              " 715: 'petits',\n",
              " 716: 'béthel',\n",
              " 717: 'gauche',\n",
              " 718: 'éternel',\n",
              " 719: 'entrailles',\n",
              " 720: 'laquelle',\n",
              " 721: 'monta',\n",
              " 722: 'ouvrage',\n",
              " 723: 'prenez',\n",
              " 724: 'pâque',\n",
              " 725: 'propitiatoire',\n",
              " 726: 'frontière',\n",
              " 727: 'meurtrier',\n",
              " 728: 'prescris',\n",
              " 729: 'animal',\n",
              " 730: 'vivant',\n",
              " 731: 'génération',\n",
              " 732: 'allèrent',\n",
              " 733: 'dixième',\n",
              " 734: 'm’as',\n",
              " 735: 'vois',\n",
              " 736: 'séir',\n",
              " 737: 'kadès',\n",
              " 738: 'trouvé',\n",
              " 739: 'couvrit',\n",
              " 740: 'poil',\n",
              " 741: 'butin',\n",
              " 742: 'miel',\n",
              " 743: 'descend',\n",
              " 744: 'nombreux',\n",
              " 745: 'prémices',\n",
              " 746: 'l’armée',\n",
              " 747: 'pectoral',\n",
              " 748: 'table',\n",
              " 749: 'faisant',\n",
              " 750: 'pourras',\n",
              " 751: 'lorsqu’ils',\n",
              " 752: 't’ai',\n",
              " 753: 'montagnes',\n",
              " 754: 'famine',\n",
              " 755: 'ânes',\n",
              " 756: 'c’était',\n",
              " 757: 'étrangers',\n",
              " 758: 'paix',\n",
              " 759: 'peu',\n",
              " 760: 'lait',\n",
              " 761: 'disait',\n",
              " 762: 'kirjath',\n",
              " 763: 'menu',\n",
              " 764: 'témoin',\n",
              " 765: 'passé',\n",
              " 766: 'taureaux',\n",
              " 767: 'feront',\n",
              " 768: 'combattre',\n",
              " 769: 'couvre',\n",
              " 770: 'l’esprit',\n",
              " 771: 'signe',\n",
              " 772: 'l’une',\n",
              " 773: 'naissance',\n",
              " 774: 'haut',\n",
              " 775: 'offrit',\n",
              " 776: 'vigne',\n",
              " 777: 'sodome',\n",
              " 778: 'mâles',\n",
              " 779: 'commis',\n",
              " 780: 'sorti',\n",
              " 781: 'voilà',\n",
              " 782: 'boucs',\n",
              " 783: 'portera',\n",
              " 784: 'regarderez',\n",
              " 785: 'petit',\n",
              " 786: 'travail',\n",
              " 787: 'couverture',\n",
              " 788: 'jébusiens',\n",
              " 789: 'tour',\n",
              " 790: 'bénédiction',\n",
              " 791: 'traité',\n",
              " 792: 'grandes',\n",
              " 793: 't’en',\n",
              " 794: 'crains',\n",
              " 795: 'achevé',\n",
              " 796: 'route',\n",
              " 797: 'descendre',\n",
              " 798: 'lieux',\n",
              " 799: 'laissa',\n",
              " 800: 'serment',\n",
              " 801: 'poids',\n",
              " 802: 'd’édom',\n",
              " 803: 'passa',\n",
              " 804: 'forte',\n",
              " 805: 'portion',\n",
              " 806: 'rouge',\n",
              " 807: 'fonctions',\n",
              " 808: 'trompettes',\n",
              " 809: 'soyez',\n",
              " 810: 'd’où',\n",
              " 811: 'fer',\n",
              " 812: 'tué',\n",
              " 813: 'l’appela',\n",
              " 814: 'sorte',\n",
              " 815: 'fil',\n",
              " 816: 'jeunes',\n",
              " 817: 'âne',\n",
              " 818: 'séjour',\n",
              " 819: 'cornes',\n",
              " 820: 'écoute',\n",
              " 821: 'appartient',\n",
              " 822: 'koré',\n",
              " 823: 'épis',\n",
              " 824: 'l’honneur',\n",
              " 825: 'retors',\n",
              " 826: 'd’huile',\n",
              " 827: 'estimation',\n",
              " 828: 'jubilé',\n",
              " 829: 'comptant',\n",
              " 830: 'choisira',\n",
              " 831: 'l’arnon',\n",
              " 832: 'refuge',\n",
              " 833: 'étendue',\n",
              " 834: 'l’or',\n",
              " 835: 'sais',\n",
              " 836: 'vécut',\n",
              " 837: 'coudée',\n",
              " 838: 'beaucoup',\n",
              " 839: 'sortirent',\n",
              " 840: 'mirent',\n",
              " 841: 'ensemble',\n",
              " 842: 'contrée',\n",
              " 843: 'habitaient',\n",
              " 844: 'vas',\n",
              " 845: 'puissante',\n",
              " 846: 'justes',\n",
              " 847: 'caverne',\n",
              " 848: 'quelle',\n",
              " 849: 'seconde',\n",
              " 850: 'malédiction',\n",
              " 851: 'cris',\n",
              " 852: 's’enflamma',\n",
              " 853: 'demain',\n",
              " 854: 'donnerez',\n",
              " 855: 'suite',\n",
              " 856: 'prison',\n",
              " 857: 'total',\n",
              " 858: 'servitude',\n",
              " 859: 'lévite',\n",
              " 860: 'tels',\n",
              " 861: 'présentera',\n",
              " 862: 'déclarera',\n",
              " 863: 'peaux',\n",
              " 864: 'perpétuel',\n",
              " 865: 'involontairement',\n",
              " 866: 'ressort',\n",
              " 867: 'cinquième',\n",
              " 868: 'sol',\n",
              " 869: 'trouve',\n",
              " 870: 'puisque',\n",
              " 871: 'peine',\n",
              " 872: 'caïn',\n",
              " 873: 'fruits',\n",
              " 874: 'trop',\n",
              " 875: 'mange',\n",
              " 876: 'héviens',\n",
              " 877: 'biens',\n",
              " 878: 'vive',\n",
              " 879: 'argent',\n",
              " 880: 'arriva',\n",
              " 881: 'dîme',\n",
              " 882: 'justice',\n",
              " 883: 'chèvre',\n",
              " 884: 'coucher',\n",
              " 885: 'héthiens',\n",
              " 886: 'd’isaac',\n",
              " 887: 'l’année',\n",
              " 888: 'lendemain',\n",
              " 889: 'hébron',\n",
              " 890: 'donnés',\n",
              " 891: 'd’aser',\n",
              " 892: 'messagers',\n",
              " 893: 's’approchèrent',\n",
              " 894: 'partie',\n",
              " 895: 'bête',\n",
              " 896: 'mangeront',\n",
              " 897: 'présentèrent',\n",
              " 898: 'kehath',\n",
              " 899: 'n’auras',\n",
              " 900: 'bas',\n",
              " 901: 'grêle',\n",
              " 902: 'consacré',\n",
              " 903: 'rachat',\n",
              " 904: 'lobe',\n",
              " 905: 'retranché',\n",
              " 906: 'impurs',\n",
              " 907: 'dixièmes',\n",
              " 908: 'dessous',\n",
              " 909: 'sec',\n",
              " 910: 'vivants',\n",
              " 911: 'n’avait',\n",
              " 912: 'poussière',\n",
              " 913: 'celle',\n",
              " 914: 'crainte',\n",
              " 915: 'tel',\n",
              " 916: 'apparut',\n",
              " 917: 'diront',\n",
              " 918: 'entièrement',\n",
              " 919: 'battirent',\n",
              " 920: 'couché',\n",
              " 921: 'égard',\n",
              " 922: 'retourna',\n",
              " 923: 's’était',\n",
              " 924: 'frappé',\n",
              " 925: 'voyage',\n",
              " 926: 'cou',\n",
              " 927: 'envoyé',\n",
              " 928: 'auparavant',\n",
              " 929: 'voyant',\n",
              " 930: 'd’issacar',\n",
              " 931: 'frappe',\n",
              " 932: 'monte',\n",
              " 933: 'veuve',\n",
              " 934: 'n’avez',\n",
              " 935: 'merari',\n",
              " 936: 'partage',\n",
              " 937: 'doigt',\n",
              " 938: 'jamais',\n",
              " 939: 'tranchant',\n",
              " 940: 'objet',\n",
              " 941: 'pauvre',\n",
              " 942: 'lampes',\n",
              " 943: 'l’aspersion',\n",
              " 944: 'élévation',\n",
              " 945: 'flux',\n",
              " 946: 'livra',\n",
              " 947: 'semence',\n",
              " 948: 'œuvre',\n",
              " 949: 'd’elle',\n",
              " 950: 'devenu',\n",
              " 951: 'épée',\n",
              " 952: 'jeta',\n",
              " 953: 'bâtit',\n",
              " 954: 'virent',\n",
              " 955: 'venus',\n",
              " 956: 'détruire',\n",
              " 957: 'sortis',\n",
              " 958: 'puissant',\n",
              " 959: 'nachor',\n",
              " 960: 'saraï',\n",
              " 961: 'belle',\n",
              " 962: 'aï',\n",
              " 963: 'habitait',\n",
              " 964: 'battit',\n",
              " 965: 'passèrent',\n",
              " 966: 'phéréziens',\n",
              " 967: 'prosterna',\n",
              " 968: 'mangèrent',\n",
              " 969: 'enfant',\n",
              " 970: 'n’ai',\n",
              " 971: 'n’ont',\n",
              " 972: 'donnèrent',\n",
              " 973: 'assez',\n",
              " 974: 'beer',\n",
              " 975: 'offre',\n",
              " 976: 'dirai',\n",
              " 977: 'l’épaule',\n",
              " 978: 'veux',\n",
              " 979: 'meure',\n",
              " 980: 'mettez',\n",
              " 981: 'état',\n",
              " 982: 'soin',\n",
              " 983: 'voit',\n",
              " 984: 'souillé',\n",
              " 985: 'prodiges',\n",
              " 986: 'convocation',\n",
              " 987: 'auront',\n",
              " 988: 'd’onction',\n",
              " 989: 'libations',\n",
              " 990: 'rideau',\n",
              " 991: 'toiles',\n",
              " 992: 'consumés',\n",
              " 993: 'sisera',\n",
              " 994: 'manoach',\n",
              " 995: 'l’étendue',\n",
              " 996: 'grands',\n",
              " 997: 'reptiles',\n",
              " 998: 'semblable',\n",
              " 999: 'trouva',\n",
              " 1000: 'seule',\n",
              " ...}"
            ]
          },
          "metadata": {},
          "execution_count": 42
        }
      ]
    },
    {
      "cell_type": "code",
      "source": [
        "\n",
        "tokenizer.index_word.get(18)"
      ],
      "metadata": {
        "colab": {
          "base_uri": "https://localhost:8080/",
          "height": 35
        },
        "id": "tBMVpomP2YM1",
        "outputId": "2dddb43e-bf53-4965-bb69-eedd458fa0aa"
      },
      "execution_count": 43,
      "outputs": [
        {
          "output_type": "execute_result",
          "data": {
            "text/plain": [
              "'un'"
            ],
            "application/vnd.google.colaboratory.intrinsic+json": {
              "type": "string"
            }
          },
          "metadata": {},
          "execution_count": 43
        }
      ]
    },
    {
      "cell_type": "code",
      "source": [
        "n_predict = 10\n",
        "\n",
        "for _ in range(n_predict):\n",
        "  prompt_seq = tokenizer.texts_to_sequences([prompt])\n",
        "  prompt_x = pad_sequences([prompt_seq[0]], padding=\"pre\", maxlen=65)\n",
        "  pred = model.predict(prompt_x)\n",
        "  index = np.argmax(pred)\n",
        "  mot_predit = tokenizer.index_word.get(index)\n",
        "  print(prompt + \" \" + mot_predit)\n",
        "  prompt = prompt + \" \" + mot_predit\n",
        ""
      ],
      "metadata": {
        "colab": {
          "base_uri": "https://localhost:8080/"
        },
        "id": "OFavmeeN2cpN",
        "outputId": "ba878d4b-4793-48eb-cb25-93a7981fa3c6"
      },
      "execution_count": 44,
      "outputs": [
        {
          "output_type": "stream",
          "name": "stdout",
          "text": [
            "1/1 [==============================] - 0s 40ms/step\n",
            "dieu est la\n",
            "1/1 [==============================] - 0s 63ms/step\n",
            "dieu est la maison\n",
            "1/1 [==============================] - 0s 68ms/step\n",
            "dieu est la maison de\n",
            "1/1 [==============================] - 0s 22ms/step\n",
            "dieu est la maison de l’éternel\n",
            "1/1 [==============================] - 0s 22ms/step\n",
            "dieu est la maison de l’éternel et\n",
            "1/1 [==============================] - 0s 21ms/step\n",
            "dieu est la maison de l’éternel et à\n",
            "1/1 [==============================] - 0s 25ms/step\n",
            "dieu est la maison de l’éternel et à l’éternel\n",
            "1/1 [==============================] - 0s 21ms/step\n",
            "dieu est la maison de l’éternel et à l’éternel et\n",
            "1/1 [==============================] - 0s 25ms/step\n",
            "dieu est la maison de l’éternel et à l’éternel et je\n",
            "1/1 [==============================] - 0s 21ms/step\n",
            "dieu est la maison de l’éternel et à l’éternel et je suis\n"
          ]
        }
      ]
    },
    {
      "cell_type": "code",
      "source": [],
      "metadata": {
        "id": "FziOQwvF2hMb"
      },
      "execution_count": null,
      "outputs": []
    }
  ]
}