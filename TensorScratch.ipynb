{
  "nbformat": 4,
  "nbformat_minor": 0,
  "metadata": {
    "colab": {
      "provenance": [],
      "authorship_tag": "ABX9TyPXVSTjhVhW9ujPoLijXfgp",
      "include_colab_link": true
    },
    "kernelspec": {
      "name": "python3",
      "display_name": "Python 3"
    },
    "language_info": {
      "name": "python"
    }
  },
  "cells": [
    {
      "cell_type": "markdown",
      "metadata": {
        "id": "view-in-github",
        "colab_type": "text"
      },
      "source": [
        "<a href=\"https://colab.research.google.com/github/salim4n/kaggle_competition/blob/main/TensorScratch.ipynb\" target=\"_parent\"><img src=\"https://colab.research.google.com/assets/colab-badge.svg\" alt=\"Open In Colab\"/></a>"
      ]
    },
    {
      "cell_type": "markdown",
      "source": [
        "# Objectif : Créer un mini tensorflow\n",
        "\n",
        "\n"
      ],
      "metadata": {
        "id": "aqirt391WEJ7"
      }
    },
    {
      "cell_type": "code",
      "execution_count": 129,
      "metadata": {
        "id": "mF3aiUZeM9z7"
      },
      "outputs": [],
      "source": [
        "import pandas as pd\n",
        "import numpy as np"
      ]
    },
    {
      "cell_type": "code",
      "source": [
        "class Boite():\n",
        "\n",
        "  def __init__(self):\n",
        "    pass\n",
        "\n",
        "  def forward(self, inputs):\n",
        "    self.inputs = inputs\n",
        "    self.output = self.operation()\n",
        "    return self.output\n",
        "\n",
        "  def backward(self, derivee_output):\n",
        "    assert derivee_output.shape == self.output.shape, f\"La derivee_output reçue a un shape {derivee_output.shape} et different du shape de output : {self.output.shape}\"\n",
        "\n",
        "    self.derivee_inputs = self.gradient(derivee_output)\n",
        "    assert self.derivee_inputs.shape == self.inputs.shape, f\"La derivee_input calculée a un shape {self.derivee_inputs.shape } et different du shape de inputs : {self.inputs.shape}\"\n",
        "\n",
        "    return self.derivee_inputs\n",
        "\n",
        "\n",
        "  def operation(self):\n",
        "    pass\n",
        "\n",
        "  def gradient(self, derivee_output):\n",
        "    pass\n",
        "\n"
      ],
      "metadata": {
        "id": "1DzrcKDzNH9W"
      },
      "execution_count": 130,
      "outputs": []
    },
    {
      "cell_type": "code",
      "source": [
        "class BoiteParam():\n",
        "\n",
        "  def __init__(self, param):\n",
        "    self.param = param\n",
        "\n",
        "  def forward(self, inputs):\n",
        "    self.inputs = inputs\n",
        "    self.output = self.operation()\n",
        "    return self.output\n",
        "\n",
        "  def backward(self, derivee_output):\n",
        "    assert derivee_output.shape == self.output.shape, f\"La derivee_output reçue a un shape {derivee_output.shape} et different du shape de output : {self.output}\"\n",
        "\n",
        "    self.derivee_inputs = self.gradient(derivee_output)\n",
        "    assert self.derivee_inputs.shape == self.inputs.shape, f\"La derivee_input calculée a un shape {self.derivee_inputs.shape } et different du shape de inputs : {self.inputs.shape}\"\n",
        "\n",
        "    self.derivee_param = self.gradient_param(derivee_output)\n",
        "    assert self.derivee_param.shape == self.param.shape, f\"La derivee de param a un shape {self.derivee_param.shape} et different du shape de param : {self.param.shape}\"\n",
        "\n",
        "    return self.derivee_inputs\n",
        "\n",
        "\n",
        "  def operation(self):\n",
        "    pass\n",
        "\n",
        "  def gradient(self, derivee_output):\n",
        "    pass\n",
        "\n",
        "\n",
        "  def gradient_param(self, derivee_output):\n",
        "    pass"
      ],
      "metadata": {
        "id": "8_JNAhoDOGza"
      },
      "execution_count": 131,
      "outputs": []
    },
    {
      "cell_type": "markdown",
      "source": [
        "## La classe Dot"
      ],
      "metadata": {
        "id": "GyQfsDixRJjp"
      }
    },
    {
      "cell_type": "code",
      "source": [
        "class Dot(BoiteParam):\n",
        "\n",
        "  def __init__(self, weights):\n",
        "    super().__init__(weights)\n",
        "\n",
        "  def operation(self):\n",
        "    return np.dot(self.inputs, self.param)\n",
        "\n",
        "  def gradient(self, derivee_output):\n",
        "    return np.dot( derivee_output, self.param.T)\n",
        "\n",
        "  def gradient_param(self, derivee_output):\n",
        "    return np.dot(self.inputs.T, derivee_output)\n",
        "\n",
        "  def __repr__(self):\n",
        "    return \"DotProduct\""
      ],
      "metadata": {
        "id": "hSn98cC4RLgC"
      },
      "execution_count": 132,
      "outputs": []
    },
    {
      "cell_type": "markdown",
      "source": [
        "## La classe ADD"
      ],
      "metadata": {
        "id": "3V3k6CMXT990"
      }
    },
    {
      "cell_type": "code",
      "source": [
        "class Add(BoiteParam):\n",
        "\n",
        "  def __init__(self, biais):\n",
        "    super().__init__(biais)\n",
        "\n",
        "  def operation(self):\n",
        "    return self.inputs + self.param\n",
        "\n",
        "  def gradient(self, derivee_output):\n",
        "    return np.ones_like(self.inputs) * derivee_output\n",
        "\n",
        "  def gradient_param(self, derivee_output):\n",
        "    r =  np.ones_like(self.param) * derivee_output\n",
        "    return r.sum(axis=0).reshape(1, self.param.shape[1])\n",
        "\n",
        "  def __repr__(self):\n",
        "    return \"AddBiais\""
      ],
      "metadata": {
        "id": "ybBs_C6PSghW"
      },
      "execution_count": 133,
      "outputs": []
    },
    {
      "cell_type": "markdown",
      "source": [
        "## La classe Sigmoid"
      ],
      "metadata": {
        "id": "cS6_iES2WZb8"
      }
    },
    {
      "cell_type": "code",
      "source": [
        "class Sigmoid(Boite):\n",
        "\n",
        "  def __init__(self):\n",
        "    super().__init__()\n",
        "\n",
        "  def operation(self):\n",
        "    return 1 / (1 + np.exp(-1 * self.inputs))\n",
        "\n",
        "  def gradient(self, derivee_output):\n",
        "    return self.output * (1 - self.output) * derivee_output\n",
        "\n",
        "  def __repr__(self):\n",
        "    return \"Sigmoid\""
      ],
      "metadata": {
        "id": "P45KbusYU__Z"
      },
      "execution_count": 134,
      "outputs": []
    },
    {
      "cell_type": "markdown",
      "source": [
        "## La classe Loss"
      ],
      "metadata": {
        "id": "-0qSsbQYXiC0"
      }
    },
    {
      "cell_type": "code",
      "source": [
        "class Loss():\n",
        "\n",
        "  def __init__(self):\n",
        "    pass\n",
        "\n",
        "  def forward(self, prediction, target):\n",
        "    assert prediction.shape == target.shape, f\"Prediction shape {prediction.shape}  Target shape {target.shape}\"\n",
        "    self.prediction = prediction\n",
        "    self.target = target\n",
        "    loss = np.mean((self.target - self.prediction) ** 2)\n",
        "    return loss\n",
        "\n",
        "  def backward(self):\n",
        "\n",
        "    self.loss_derivee = -2 * (self.target - self.prediction)\n",
        "    assert self.loss_derivee.shape == self.prediction.shape, f\"La derivee du loss un shape {self.loss_derivee.shape } et different du shape de Prediction : {self.prediction.shape}\"\n",
        "\n",
        "    return self.loss_derivee"
      ],
      "metadata": {
        "id": "yOp_ajdvXGHh"
      },
      "execution_count": 135,
      "outputs": []
    },
    {
      "cell_type": "markdown",
      "source": [
        "## La classe Dense"
      ],
      "metadata": {
        "id": "Am1BW-lpbWvV"
      }
    },
    {
      "cell_type": "code",
      "source": [
        "class Dense():\n",
        "\n",
        "  def __init__(self, neurons, activation=None):\n",
        "    self.neurons = neurons\n",
        "    self.activation = activation\n",
        "    self.params = []\n",
        "    self.suite = []\n",
        "    self.initialisation = True\n",
        "\n",
        "\n",
        "  def build(self, inputs):\n",
        "    # weights initialization\n",
        "    np.random.seed(42)\n",
        "\n",
        "    self.weights = np.random.randn(inputs.shape[1], self.neurons)\n",
        "    self.biais = np.random.randn(1, self.neurons)\n",
        "\n",
        "    self.params.append(self.weights)\n",
        "    self.params.append(self.biais)\n",
        "\n",
        "    # construction de la suite d'opération\n",
        "    self.suite = [Dot(weights=self.params[0]), Add(biais=self.params[1])]\n",
        "    if self.activation:\n",
        "      self.suite.append(self.activation)\n",
        "\n",
        "\n",
        "\n",
        "  def forward(self, inputs):\n",
        "    if self.initialisation:\n",
        "      self.build(inputs)\n",
        "      self.initialisation = False\n",
        "\n",
        "    for boite in self.suite:\n",
        "      inputs = boite.forward(inputs)\n",
        "\n",
        "    self.output = inputs\n",
        "\n",
        "    return self.output\n",
        "\n",
        "\n",
        "  def backward(self, derivee_output):\n",
        "    assert derivee_output.shape == self.output.shape\n",
        "\n",
        "    for boite in reversed(self.suite):\n",
        "      derivee_output = boite.backward(derivee_output)\n",
        "\n",
        "    derivee_inputs = derivee_output\n",
        "\n",
        "    self.get_layer_gradients()\n",
        "\n",
        "    return derivee_inputs\n",
        "\n",
        "  def get_layer_gradients(self):\n",
        "\n",
        "    self.derivee_params = []\n",
        "\n",
        "    for boite in self.suite:\n",
        "      if issubclass(boite.__class__, BoiteParam):\n",
        "        self.derivee_params.append(boite.derivee_param)\n",
        "\n",
        "\n",
        "\n",
        "  def __repr__(self):\n",
        "    r = f\"DenseLayer(neurons={self.neurons})\"\n",
        "    if self.activation:\n",
        "      r += \" avec Sigmoid\"\n",
        "\n",
        "    return r"
      ],
      "metadata": {
        "id": "m3hW4xyRZaAE"
      },
      "execution_count": 136,
      "outputs": []
    },
    {
      "cell_type": "markdown",
      "source": [
        "## La classe Modèle"
      ],
      "metadata": {
        "id": "VOawAA7KjJTe"
      }
    },
    {
      "cell_type": "code",
      "source": [
        "from copy import deepcopy"
      ],
      "metadata": {
        "id": "dWoprN7VAp9y"
      },
      "execution_count": 137,
      "outputs": []
    },
    {
      "cell_type": "code",
      "source": [
        "class Model():\n",
        "\n",
        "  def __init__(self, layers):\n",
        "    self.layers = layers\n",
        "    self.compiled = False\n",
        "\n",
        "\n",
        "  def forward(self, inputs):\n",
        "\n",
        "\n",
        "    for layer in self.layers:\n",
        "\n",
        "      inputs = layer.forward(inputs)\n",
        "    self.output = inputs\n",
        "    return self.output\n",
        "\n",
        "\n",
        "  def backward(self, loss_derivee):\n",
        "\n",
        "    assert loss_derivee.shape == self.output.shape\n",
        "\n",
        "    for layer in reversed(self.layers):\n",
        "      loss_derivee = layer.backward(loss_derivee)\n",
        "\n",
        "    return None\n",
        "\n",
        "  def get_params(self):\n",
        "    for layer in self.layers:\n",
        "      yield from layer.params\n",
        "\n",
        "\n",
        "  def get_derivee_params(self):\n",
        "    for layer in self.layers:\n",
        "      yield from layer.derivee_params\n",
        "\n",
        "\n",
        "  def update(self):\n",
        "\n",
        "    for (param, derivee_param) in zip(self.get_params(), self.get_derivee_params()):\n",
        "      assert param.shape == derivee_param.shape\n",
        "      param -=   self.learning_rate * derivee_param\n",
        "\n",
        "\n",
        "  def compile(self, loss, learning_rate):\n",
        "    self.loss = loss\n",
        "    self.learning_rate = learning_rate\n",
        "    self.compiled = True\n",
        "\n",
        "\n",
        "  def fit(self, X, Y, epochs, validation_data=None):\n",
        "\n",
        "    if validation_data:\n",
        "      assert len(validation_data) == 2\n",
        "      assert validation_data[0].shape[1] == X.shape[1]\n",
        "      assert validation_data[1].shape[1] == Y.shape[1]\n",
        "\n",
        "    self.history = {\"loss\":[]}\n",
        "    if validation_data:\n",
        "      self.history['val_loss'] = []\n",
        "\n",
        "\n",
        "    if not self.compiled:\n",
        "      raise NotImplementedError(\"Pas de loss et de learning_rate: Compilez\")\n",
        "\n",
        "    for epoch in range(epochs):\n",
        "      # forward pass\n",
        "      predictions = model.forward(X)\n",
        "      loss = self.loss.forward(predictions, Y)\n",
        "      self.history['loss'].append(loss)\n",
        "\n",
        "\n",
        "      # val loss\n",
        "      if validation_data:\n",
        "        val_preds = model.forward(validation_data[0])\n",
        "        val_loss = self.loss.forward(val_preds, validation_data[1])\n",
        "        self.history['val_loss'].append(val_loss)\n",
        "\n",
        "      log = f'Epoch {epoch+1} .............. loss : {loss}'\n",
        "      if validation_data:\n",
        "        log += f\"  ....val_loss : {val_loss}\"\n",
        "      print(log)\n",
        "\n",
        "\n",
        "\n",
        "      # backward pass\n",
        "      loss_derivee = self.loss.backward()\n",
        "      self.backward(loss_derivee)\n",
        "\n",
        "      # update\n",
        "      self.update()\n",
        "\n",
        "    return self.history\n",
        "\n",
        "  def save_model(self, file):\n",
        "    model_save = deepcopy(self)\n",
        "\n",
        "    import pickle\n",
        "    with open(file, \"wb\") as f:\n",
        "      pickle.dump(model_save, f)\n",
        "\n",
        "\n",
        "  def __repr__(self):\n",
        "\n",
        "    r = \"Layers .................\"\n",
        "    for layer in self.layers:\n",
        "      r += f\" \\n {str(layer)}\"\n",
        "\n",
        "    return r"
      ],
      "metadata": {
        "id": "J5wGh4UkhCs-"
      },
      "execution_count": 138,
      "outputs": []
    },
    {
      "cell_type": "markdown",
      "source": [
        "## Test sur le Boston Dataset"
      ],
      "metadata": {
        "id": "2_8Z6Pqb9be2"
      }
    },
    {
      "cell_type": "code",
      "source": [
        "data_url = \"http://lib.stat.cmu.edu/datasets/boston\"\n",
        "raw_df = pd.read_csv(data_url, sep=\"\\s+\", skiprows=22, header=None)\n",
        "data = np.hstack([raw_df.values[::2, :], raw_df.values[1::2, :2]])\n",
        "target = raw_df.values[1::2, 2]\n",
        "data = data\n",
        "target = target\n",
        "data_url = \"http://lib.stat.cmu.edu/datasets/boston\"\n",
        "raw_df = pd.read_csv(data_url, sep=\"\\s+\", skiprows=22, header=None)\n",
        "data = np.hstack([raw_df.values[::2, :], raw_df.values[1::2, :2]])\n",
        "target = raw_df.values[1::2, 2]\n",
        "data = data\n",
        "target = target\n",
        "\n",
        "X = data\n",
        "Y = target.reshape((506, 1))\n",
        "\n",
        "from sklearn.model_selection import train_test_split\n",
        "X_train, X_test, y_train, y_test = train_test_split(X, Y, test_size=0.25, random_state=0)\n",
        "\n",
        "from sklearn.preprocessing import StandardScaler\n",
        "scaler = StandardScaler()\n",
        "X_train = scaler.fit_transform(X_train)\n",
        "X_test = scaler.transform(X_test)"
      ],
      "metadata": {
        "id": "NSvDcgDuiVGY"
      },
      "execution_count": 139,
      "outputs": []
    },
    {
      "cell_type": "code",
      "source": [
        "X_train.shape, y_train.shape\n",
        "X_test"
      ],
      "metadata": {
        "colab": {
          "base_uri": "https://localhost:8080/"
        },
        "id": "xUNaPuQW-ayP",
        "outputId": "e7ee23ed-3a7b-44ad-9a29-0034cda7d2e9"
      },
      "execution_count": 140,
      "outputs": [
        {
          "output_type": "execute_result",
          "data": {
            "text/plain": [
              "array([[-0.4056463 , -0.49882807, -1.11854752, ..., -0.72620097,\n",
              "         0.18418254, -0.72377323],\n",
              "       [ 0.7056307 , -0.49882807,  1.00060803, ...,  0.78128376,\n",
              "         0.08244389, -0.41932101],\n",
              "       [-0.39994626, -0.49882807,  0.40022816, ..., -0.95460774,\n",
              "         0.39226392, -0.28447232],\n",
              "       ...,\n",
              "       [-0.37143398, -0.49882807, -0.16877794, ..., -0.04098064,\n",
              "         0.42033751, -0.35815253],\n",
              "       [-0.40185719, -0.49882807,  2.07729878, ...,  0.27878885,\n",
              "         0.23100928,  0.69978415],\n",
              "       [-0.40470175,  0.8889692 , -1.26971205, ..., -0.04098064,\n",
              "         0.42774893, -0.84471999]])"
            ]
          },
          "metadata": {},
          "execution_count": 140
        }
      ]
    },
    {
      "cell_type": "code",
      "source": [
        "X_test.shape, y_test.shape"
      ],
      "metadata": {
        "colab": {
          "base_uri": "https://localhost:8080/"
        },
        "id": "wSE69ukJ-fSV",
        "outputId": "ca160583-afc2-4378-9199-e1f3dab12cd0"
      },
      "execution_count": 141,
      "outputs": [
        {
          "output_type": "execute_result",
          "data": {
            "text/plain": [
              "((127, 13), (127, 1))"
            ]
          },
          "metadata": {},
          "execution_count": 141
        }
      ]
    },
    {
      "cell_type": "markdown",
      "source": [
        "## Regression lineaire simple"
      ],
      "metadata": {
        "id": "M_0K-6_i-nIc"
      }
    },
    {
      "cell_type": "code",
      "source": [
        "model = Model([Dense(neurons=1)])\n",
        "mse = Loss()\n",
        "model.compile(loss=mse, learning_rate=0.001)\n",
        "h = model.fit(X_train, y_train, epochs=50, validation_data=(X_test, y_test))"
      ],
      "metadata": {
        "colab": {
          "base_uri": "https://localhost:8080/"
        },
        "id": "d4l4y8uP-jEj",
        "outputId": "20056aae-e22b-405b-a799-be22e1c3c453"
      },
      "execution_count": 142,
      "outputs": [
        {
          "output_type": "stream",
          "name": "stdout",
          "text": [
            "Epoch 1 .............. loss : 712.1743316753176  ....val_loss : 671.7547143671588\n",
            "Epoch 2 .............. loss : 384.0837028693358  ....val_loss : 383.82786822291087\n",
            "Epoch 3 .............. loss : 247.75414344252928  ....val_loss : 229.1941295737599\n",
            "Epoch 4 .............. loss : 148.3806303920543  ....val_loss : 144.19534190777878\n",
            "Epoch 5 .............. loss : 103.89520896898965  ....val_loss : 96.47739842280843\n",
            "Epoch 6 .............. loss : 71.33479105168065  ....val_loss : 69.15302180485378\n",
            "Epoch 7 .............. loss : 55.97937743045081  ....val_loss : 53.20253156199875\n",
            "Epoch 8 .............. loss : 44.69041961018085  ....val_loss : 43.70966230146516\n",
            "Epoch 9 .............. loss : 39.11541183660613  ....val_loss : 37.94536623883121\n",
            "Epoch 10 .............. loss : 35.00552004305203  ....val_loss : 34.3691118394618\n",
            "Epoch 11 .............. loss : 32.86685286102087  ....val_loss : 32.09754754821056\n",
            "Epoch 12 .............. loss : 31.27998033095609  ....val_loss : 30.616578716256143\n",
            "Epoch 13 .............. loss : 30.39111885607059  ....val_loss : 29.622717392182356\n",
            "Epoch 14 .............. loss : 29.716242894637325  ....val_loss : 28.93430154637416\n",
            "Epoch 15 .............. loss : 29.293243882027436  ....val_loss : 28.44108945283857\n",
            "Epoch 16 .............. loss : 28.95482063865208  ....val_loss : 28.075249108343932\n",
            "Epoch 17 .............. loss : 28.7089786277432  ....val_loss : 27.79444481334606\n",
            "Epoch 18 .............. loss : 28.497466286622565  ....val_loss : 27.571855135441425\n",
            "Epoch 19 .............. loss : 28.321231946325064  ....val_loss : 27.390212568490785\n",
            "Epoch 20 .............. loss : 28.160012267263177  ....val_loss : 27.238204534604474\n",
            "Epoch 21 .............. loss : 28.013601705576395  ....val_loss : 27.10827654993127\n",
            "Epoch 22 .............. loss : 27.875042004989993  ....val_loss : 26.995276952012357\n",
            "Epoch 23 .............. loss : 27.74416729188687  ....val_loss : 26.895611914363833\n",
            "Epoch 24 .............. loss : 27.618652933103757  ....val_loss : 26.806712942523752\n",
            "Epoch 25 .............. loss : 27.498454618593712  ....val_loss : 26.726697569350943\n",
            "Epoch 26 .............. loss : 27.382818478029847  ....val_loss : 26.654150638874846\n",
            "Epoch 27 .............. loss : 27.271736860497047  ....val_loss : 26.587981576323592\n",
            "Epoch 28 .............. loss : 27.16495168322497  ....val_loss : 26.527330004354646\n",
            "Epoch 29 .............. loss : 27.062434602101924  ....val_loss : 26.471502428119276\n",
            "Epoch 30 .............. loss : 26.9640574302144  ....val_loss : 26.419929095745758\n",
            "Epoch 31 .............. loss : 26.869753166650277  ....val_loss : 26.37213410587323\n",
            "Epoch 32 .............. loss : 26.779409286378037  ....val_loss : 26.32771431634484\n",
            "Epoch 33 .............. loss : 26.69292377483864  ....val_loss : 26.286324174850563\n",
            "Epoch 34 .............. loss : 26.610172280365813  ....val_loss : 26.24766458898098\n",
            "Epoch 35 .............. loss : 26.53102898198117  ....val_loss : 26.211474592371644\n",
            "Epoch 36 .............. loss : 26.455357668133964  ....val_loss : 26.177524977002555\n",
            "Epoch 37 .............. loss : 26.38302031917114  ....val_loss : 26.14561333135363\n",
            "Epoch 38 .............. loss : 26.313875501273984  ....val_loss : 26.11556010155811\n",
            "Epoch 39 .............. loss : 26.247782296511772  ....val_loss : 26.08720541055202\n",
            "Epoch 40 .............. loss : 26.184600609561187  ....val_loss : 26.06040644925848\n",
            "Epoch 41 .............. loss : 26.124193107461608  ....val_loss : 26.035035307397525\n",
            "Epoch 42 .............. loss : 26.066425783216147  ....val_loss : 26.010977148186267\n",
            "Epoch 43 .............. loss : 26.011168919679005  ....val_loss : 25.98812865659674\n",
            "Epoch 44 .............. loss : 25.95829748033157  ....val_loss : 25.96639670864635\n",
            "Epoch 45 .............. loss : 25.9076915403583  ....val_loss : 25.945697221838902\n",
            "Epoch 46 .............. loss : 25.859236453884225  ....val_loss : 25.92595415597057\n",
            "Epoch 47 .............. loss : 25.812822977664673  ....val_loss : 25.907098640153542\n",
            "Epoch 48 .............. loss : 25.768347263571417  ....val_loss : 25.889068206823442\n",
            "Epoch 49 .............. loss : 25.72571080422273  ....val_loss : 25.87180611718996\n",
            "Epoch 50 .............. loss : 25.68482031157008  ....val_loss : 25.855260765406797\n"
          ]
        }
      ]
    },
    {
      "cell_type": "code",
      "source": [
        "import matplotlib.pyplot as plt\n",
        "\n",
        "def plot_learning_curve(history):\n",
        "  plt.plot(list(range(len(history['loss']))), history['loss'])\n",
        "  plt.plot(list(range(len(history['val_loss']))), history['val_loss'])\n",
        "  plt.xlabel('Epochs')\n",
        "  plt.ylabel(\"Loss\")\n",
        "  plt.title(\"Learning Curve\")\n",
        "  plt.show()\n"
      ],
      "metadata": {
        "id": "AiJLLThL_LlC"
      },
      "execution_count": 143,
      "outputs": []
    },
    {
      "cell_type": "code",
      "source": [
        "plot_learning_curve(h)"
      ],
      "metadata": {
        "colab": {
          "base_uri": "https://localhost:8080/",
          "height": 472
        },
        "id": "Z-i14cCLAaws",
        "outputId": "a6cfaf73-83bf-4ba9-dfe0-a29c329fc6c4"
      },
      "execution_count": 144,
      "outputs": [
        {
          "output_type": "display_data",
          "data": {
            "text/plain": [
              "<Figure size 640x480 with 1 Axes>"
            ],
            "image/png": "[encoded data removed]"
          },
          "metadata": {}
        }
      ]
    },
    {
      "cell_type": "markdown",
      "source": [
        "## Réseau de neurones simple"
      ],
      "metadata": {
        "id": "G8dpL3IwdpOE"
      }
    },
    {
      "cell_type": "code",
      "source": [
        "sigmoid = Sigmoid()\n",
        "model = Model([ Dense(neurons=3, activation=sigmoid),\n",
        "                Dense(neurons=1)\n",
        "                ])\n",
        "model"
      ],
      "metadata": {
        "id": "GrvQRPjeAx-v",
        "colab": {
          "base_uri": "https://localhost:8080/"
        },
        "outputId": "82bca974-fd6f-4b31-96fc-5d5272394d7e"
      },
      "execution_count": 145,
      "outputs": [
        {
          "output_type": "execute_result",
          "data": {
            "text/plain": [
              "Layers ................. \n",
              " DenseLayer(neurons=3) avec Sigmoid \n",
              " DenseLayer(neurons=1)"
            ]
          },
          "metadata": {},
          "execution_count": 145
        }
      ]
    },
    {
      "cell_type": "code",
      "source": [
        "mse = Loss()\n",
        "model.compile(loss=mse, learning_rate=0.0001)\n",
        "h = model.fit(X_train, y_train, epochs=150, validation_data=(X_test, y_test))"
      ],
      "metadata": {
        "colab": {
          "base_uri": "https://localhost:8080/"
        },
        "id": "TDoH16deeBdd",
        "outputId": "9a9f820c-cc7c-4e5c-8f1c-65847418f8ce"
      },
      "execution_count": 146,
      "outputs": [
        {
          "output_type": "stream",
          "name": "stdout",
          "text": [
            "Epoch 1 .............. loss : 507.9248956497336  ....val_loss : 492.311693850643\n",
            "Epoch 2 .............. loss : 466.24520089721494  ....val_loss : 451.5607557083814\n",
            "Epoch 3 .............. loss : 427.7318622051442  ....val_loss : 413.9124130384742\n",
            "Epoch 4 .............. loss : 391.9445763802112  ....val_loss : 378.9220233229542\n",
            "Epoch 5 .............. loss : 358.64849568841305  ....val_loss : 346.36124271593445\n",
            "Epoch 6 .............. loss : 327.7617822429383  ....val_loss : 316.1600493240994\n",
            "Epoch 7 .............. loss : 299.2676236516309  ....val_loss : 288.3099264728872\n",
            "Epoch 8 .............. loss : 273.13622523629294  ....val_loss : 262.78193463964385\n",
            "Epoch 9 .............. loss : 249.29517625915642  ....val_loss : 239.50103731811706\n",
            "Epoch 10 .............. loss : 227.63791951268425  ....val_loss : 218.36067475205962\n",
            "Epoch 11 .............. loss : 208.03992319108744  ....val_loss : 199.24113995526798\n",
            "Epoch 12 .............. loss : 190.36761824850086  ....val_loss : 182.0169604282577\n",
            "Epoch 13 .............. loss : 174.48132826613926  ....val_loss : 166.55758033726065\n",
            "Epoch 14 .............. loss : 160.2373877660901  ....val_loss : 152.72817521222836\n",
            "Epoch 15 .............. loss : 147.49213642139273  ....val_loss : 140.39369302710537\n",
            "Epoch 16 .............. loss : 136.10807073394298  ....val_loss : 129.4266588617602\n",
            "Epoch 17 .............. loss : 125.96005042278307  ....val_loss : 119.71304197365491\n",
            "Epoch 18 .............. loss : 116.93619404383797  ....val_loss : 111.1455403981217\n",
            "Epoch 19 .............. loss : 108.93089266089396  ....val_loss : 103.60774406587444\n",
            "Epoch 20 .............. loss : 101.83844353958814  ....val_loss : 96.96951004926161\n",
            "Epoch 21 .............. loss : 95.55606579719415  ....val_loss : 91.09914936496412\n",
            "Epoch 22 .............. loss : 89.99316542944221  ....val_loss : 85.88076187359752\n",
            "Epoch 23 .............. loss : 85.0797863891724  ....val_loss : 81.23032261860891\n",
            "Epoch 24 .............. loss : 80.76874841898717  ....val_loss : 77.1066717562455\n",
            "Epoch 25 .............. loss : 77.02651759310706  ....val_loss : 73.50424553625534\n",
            "Epoch 26 .............. loss : 73.81484783078726  ....val_loss : 70.42003921110141\n",
            "Epoch 27 .............. loss : 71.07813912785376  ....val_loss : 67.8214885725702\n",
            "Epoch 28 .............. loss : 68.74771096995089  ....val_loss : 65.6462032660693\n",
            "Epoch 29 .............. loss : 66.75445606175039  ....val_loss : 63.822082675892396\n",
            "Epoch 30 .............. loss : 65.03745027994101  ....val_loss : 62.28288764393278\n",
            "Epoch 31 .............. loss : 63.54634633177122  ....val_loss : 60.97353071205928\n",
            "Epoch 32 .............. loss : 62.24054219862075  ....val_loss : 59.84982479798374\n",
            "Epoch 33 .............. loss : 61.087469983750644  ....val_loss : 58.87661701467563\n",
            "Epoch 34 .............. loss : 60.06094702186249  ....val_loss : 58.025873950715265\n",
            "Epoch 35 .............. loss : 59.139823571218756  ....val_loss : 57.275113624333386\n",
            "Epoch 36 .............. loss : 58.30692492487099  ....val_loss : 56.60619800672443\n",
            "Epoch 37 .............. loss : 57.54823196113008  ....val_loss : 56.00441451316407\n",
            "Epoch 38 .............. loss : 56.852244452189154  ....val_loss : 55.45777395518676\n",
            "Epoch 39 .............. loss : 56.209483016535096  ....val_loss : 54.956468508282875\n",
            "Epoch 40 .............. loss : 55.612096744538555  ....val_loss : 54.49244857110679\n",
            "Epoch 41 .............. loss : 55.05355205428039  ....val_loss : 54.059088853415076\n",
            "Epoch 42 .............. loss : 54.52838448445342  ....val_loss : 53.65092206747318\n",
            "Epoch 43 .............. loss : 54.03199953686629  ....val_loss : 53.26342416555792\n",
            "Epoch 44 .............. loss : 53.560511881718085  ....val_loss : 52.8928389449061\n",
            "Epoch 45 .............. loss : 53.11061461736576  ....val_loss : 52.536032567989\n",
            "Epoch 46 .............. loss : 52.6794720976204  ....val_loss : 52.19037047744537\n",
            "Epoch 47 .............. loss : 52.26463130133323  ....val_loss : 51.85361057633516\n",
            "Epoch 48 .............. loss : 51.86394800081757  ....val_loss : 51.523807627570385\n",
            "Epoch 49 .............. loss : 51.47552530291856  ....val_loss : 51.19922491536677\n",
            "Epoch 50 .............. loss : 51.09766380971813  ....val_loss : 50.87825088124481\n",
            "Epoch 51 .............. loss : 50.7288251855307  ....val_loss : 50.55932185480677\n",
            "Epoch 52 .............. loss : 50.36761506755083  ....val_loss : 50.240859372612874\n",
            "Epoch 53 .............. loss : 50.01279774169708  ....val_loss : 49.921245520485\n",
            "Epoch 54 .............. loss : 49.66336318555973  ....val_loss : 49.59888553451402\n",
            "Epoch 55 .............. loss : 49.31867097034068  ....val_loss : 49.27243735609513\n",
            "Epoch 56 .............. loss : 48.97867658577628  ....val_loss : 48.941282630794284\n",
            "Epoch 57 .............. loss : 48.64417269364475  ....val_loss : 48.60617503634132\n",
            "Epoch 58 .............. loss : 48.316849201351516  ....val_loss : 48.26966722405963\n",
            "Epoch 59 .............. loss : 47.99892244221096  ....val_loss : 47.93568662008473\n",
            "Epoch 60 .............. loss : 47.69233833768087  ....val_loss : 47.60816373524545\n",
            "Epoch 61 .............. loss : 47.39801758559914  ....val_loss : 47.28967500126016\n",
            "Epoch 62 .............. loss : 47.115661828962544  ....val_loss : 46.981095919974\n",
            "Epoch 63 .............. loss : 46.844111810755244  ....val_loss : 46.682132163029806\n",
            "Epoch 64 .............. loss : 46.581858280850376  ....val_loss : 46.391997037683595\n",
            "Epoch 65 .............. loss : 46.32741201414948  ....val_loss : 46.109834987643424\n",
            "Epoch 66 .............. loss : 46.079483149109315  ....val_loss : 45.834893016978356\n",
            "Epoch 67 .............. loss : 45.83703171984428  ....val_loss : 45.56655596872626\n",
            "Epoch 68 .............. loss : 45.59925484619439  ....val_loss : 45.30433011631969\n",
            "Epoch 69 .............. loss : 45.36555065768121  ....val_loss : 45.04781482122885\n",
            "Epoch 70 .............. loss : 45.135478325458635  ....val_loss : 44.79667654100699\n",
            "Epoch 71 .............. loss : 44.90872200688446  ....val_loss : 44.5506287006048\n",
            "Epoch 72 .............. loss : 44.685061033004786  ....val_loss : 44.309417232400236\n",
            "Epoch 73 .............. loss : 44.464346364713776  ....val_loss : 44.0728106504937\n",
            "Epoch 74 .............. loss : 44.24648250945984  ....val_loss : 43.84059350674433\n",
            "Epoch 75 .............. loss : 44.03141388866228  ....val_loss : 43.61256229369409\n",
            "Epoch 76 .............. loss : 43.819114693430016  ....val_loss : 43.388523089858275\n",
            "Epoch 77 .............. loss : 43.60958139634553  ....val_loss : 43.16829042871423\n",
            "Epoch 78 .............. loss : 43.40282723160738  ....val_loss : 42.95168700988071\n",
            "Epoch 79 .............. loss : 43.198878089290304  ....val_loss : 42.73854396870362\n",
            "Epoch 80 .............. loss : 42.99776938470999  ....val_loss : 42.52870148915845\n",
            "Epoch 81 .............. loss : 42.79954356102666  ....val_loss : 42.32200959318739\n",
            "Epoch 82 .............. loss : 42.60424796501946  ....val_loss : 42.118328973792664\n",
            "Epoch 83 .............. loss : 42.41193290563046  ....val_loss : 41.91753176430316\n",
            "Epoch 84 .............. loss : 42.22264976522918  ....val_loss : 41.71950215596651\n",
            "Epoch 85 .............. loss : 42.03644908658515  ....val_loss : 41.52413679326066\n",
            "Epoch 86 .............. loss : 41.8533786053007  ....val_loss : 41.331344893166886\n",
            "Epoch 87 .............. loss : 41.673481238039145  ....val_loss : 41.14104805242936\n",
            "Epoch 88 .............. loss : 41.49679307058096  ....val_loss : 40.953179726099165\n",
            "Epoch 89 .............. loss : 41.3233414153459  ....val_loss : 40.76768438119792\n",
            "Epoch 90 .............. loss : 41.15314302422827  ....val_loss : 40.58451635024624\n",
            "Epoch 91 .............. loss : 40.9862025484439  ....val_loss : 40.40363842929208\n",
            "Epoch 92 .............. loss : 40.82251133236724  ....val_loss : 40.22502028231934\n",
            "Epoch 93 .............. loss : 40.662046613823684  ....val_loss : 40.04863672694097\n",
            "Epoch 94 .............. loss : 40.50477118081201  ....val_loss : 39.87446598381044\n",
            "Epoch 95 .............. loss : 40.35063350683473  ....val_loss : 39.70248797345854\n",
            "Epoch 96 .............. loss : 40.19956835706255  ....val_loss : 39.5326827391291\n",
            "Epoch 97 .............. loss : 40.05149782865205  ....val_loss : 39.365029063143375\n",
            "Epoch 98 .............. loss : 39.90633276347519  ....val_loss : 39.1995033284611\n",
            "Epoch 99 .............. loss : 39.763974452403666  ....val_loss : 39.036078657998985\n",
            "Epoch 100 .............. loss : 39.624316538334256  ....val_loss : 38.874724343790334\n",
            "Epoch 101 .............. loss : 39.48724702066852  ....val_loss : 38.71540555817277\n",
            "Epoch 102 .............. loss : 39.35265026651055  ....val_loss : 38.55808332165222\n",
            "Epoch 103 .............. loss : 39.22040894236437  ....val_loss : 38.402714688280355\n",
            "Epoch 104 .............. loss : 39.09040579317325  ....val_loss : 38.24925310011091\n",
            "Epoch 105 .............. loss : 38.96252521156863  ....val_loss : 38.09764885776169\n",
            "Epoch 106 .............. loss : 38.83665455765584  ....val_loss : 37.947849653936096\n",
            "Epoch 107 .............. loss : 38.71268520721598  ....val_loss : 37.79980112018688\n",
            "Epoch 108 .............. loss : 38.59051332280145  ....val_loss : 37.653447343247066\n",
            "Epoch 109 .............. loss : 38.4700403571245  ....val_loss : 37.50873131491534\n",
            "Epoch 110 .............. loss : 38.351173310991996  ....val_loss : 37.36559528790041\n",
            "Epoch 111 .............. loss : 38.233824778713455  ....val_loss : 37.22398101857871\n",
            "Epoch 112 .............. loss : 38.11791282251151  ....val_loss : 37.08382988595363\n",
            "Epoch 113 .............. loss : 38.00336072425227  ....val_loss : 36.945082884163476\n",
            "Epoch 114 .............. loss : 37.89009666812495  ....val_loss : 36.807680493870414\n",
            "Epoch 115 .............. loss : 37.778053412093804  ....val_loss : 36.671562446233224\n",
            "Epoch 116 .............. loss : 37.66716800933388  ....val_loss : 36.536667402617226\n",
            "Epoch 117 .............. loss : 37.55738164364766  ....val_loss : 36.40293258465987\n",
            "Epoch 118 .............. loss : 37.44863964501532  ....val_loss : 36.27029340393963\n",
            "Epoch 119 .............. loss : 37.34089175253839  ....val_loss : 36.138683159568096\n",
            "Epoch 120 .............. loss : 37.234092691005024  ....val_loss : 36.00803289670882\n",
            "Epoch 121 .............. loss : 37.128203121979716  ....val_loss : 35.878271549840996\n",
            "Epoch 122 .............. loss : 37.02319101697063  ....val_loss : 35.74932653037652\n",
            "Epoch 123 .............. loss : 36.919033473002756  ....val_loss : 35.62112495440456\n",
            "Epoch 124 .............. loss : 36.81571894157369  ....val_loss : 35.493595732241516\n",
            "Epoch 125 .............. loss : 36.71324976037905  ....val_loss : 35.36667273730125\n",
            "Epoch 126 .............. loss : 36.611644753828095  ....val_loss : 35.24029920638452\n",
            "Epoch 127 .............. loss : 36.510941500013196  ....val_loss : 35.11443335635405\n",
            "Epoch 128 .............. loss : 36.411197661901035  ....val_loss : 34.98905489578731\n",
            "Epoch 129 .............. loss : 36.31249059344468  ....val_loss : 34.86417165869364\n",
            "Epoch 130 .............. loss : 36.21491434470053  ....val_loss : 34.73982506141262\n",
            "Epoch 131 .............. loss : 36.11857333110693  ....val_loss : 34.61609267197933\n",
            "Epoch 132 .............. loss : 36.02357242751006  ....val_loss : 34.493086179102846\n",
            "Epoch 133 .............. loss : 35.93000413497726  ....val_loss : 34.370943735947705\n",
            "Epoch 134 .............. loss : 35.837934586858985  ....val_loss : 34.249817065789195\n",
            "Epoch 135 .............. loss : 35.747391105350445  ....val_loss : 34.129855439414975\n",
            "Epoch 136 .............. loss : 35.65835426890982  ....val_loss : 34.01118988236355\n",
            "Epoch 137 .............. loss : 35.570756669065204  ....val_loss : 33.89392103055879\n",
            "Epoch 138 .............. loss : 35.484488870634124  ....val_loss : 33.77811281814869\n",
            "Epoch 139 .............. loss : 35.39941118697494  ....val_loss : 33.66379227998596\n",
            "Epoch 140 .............. loss : 35.3153685294316  ....val_loss : 33.55095410885875\n",
            "Epoch 141 .............. loss : 35.232205253759396  ....val_loss : 33.43956783274636\n",
            "Epoch 142 .............. loss : 35.1497775380875  ....val_loss : 33.32958559296686\n",
            "Epoch 143 .............. loss : 35.06796193938238  ....val_loss : 33.220949134036125\n",
            "Epoch 144 .............. loss : 34.986659886518474  ....val_loss : 33.11359533465999\n",
            "Epoch 145 .............. loss : 34.90579865930361  ....val_loss : 33.00746015863697\n",
            "Epoch 146 .............. loss : 34.825329789776134  ....val_loss : 32.90248121680383\n",
            "Epoch 147 .............. loss : 34.74522587897512  ....val_loss : 32.79859925066848\n",
            "Epoch 148 .............. loss : 34.665476680065716  ....val_loss : 32.69575885078554\n",
            "Epoch 149 .............. loss : 34.5860850756599  ....val_loss : 32.59390867182821\n",
            "Epoch 150 .............. loss : 34.50706335243698  ....val_loss : 32.49300134130421\n"
          ]
        }
      ]
    },
    {
      "cell_type": "code",
      "source": [
        "plot_learning_curve(h)"
      ],
      "metadata": {
        "colab": {
          "base_uri": "https://localhost:8080/",
          "height": 472
        },
        "id": "laZLQ1wOexBN",
        "outputId": "ddf7f4ff-fc37-401d-f164-272f8b696b1e"
      },
      "execution_count": 147,
      "outputs": [
        {
          "output_type": "display_data",
          "data": {
            "text/plain": [
              "<Figure size 640x480 with 1 Axes>"
            ],
            "image/png": "[encoded data removed]"
          },
          "metadata": {}
        }
      ]
    },
    {
      "cell_type": "markdown",
      "source": [
        "## Réseau de neurones profond"
      ],
      "metadata": {
        "id": "V8T7KL5Kj4yS"
      }
    },
    {
      "cell_type": "code",
      "source": [
        "sigmoid = Sigmoid()\n",
        "model = Model([ Dense(neurons=13, activation=sigmoid),\n",
        "                Dense(neurons=1)\n",
        "                ])\n",
        "model"
      ],
      "metadata": {
        "colab": {
          "base_uri": "https://localhost:8080/"
        },
        "id": "Dp02CNUKjtKR",
        "outputId": "59858089-a203-4f7b-a4c8-f9c749542d26"
      },
      "execution_count": 148,
      "outputs": [
        {
          "output_type": "execute_result",
          "data": {
            "text/plain": [
              "Layers ................. \n",
              " DenseLayer(neurons=13) avec Sigmoid \n",
              " DenseLayer(neurons=1)"
            ]
          },
          "metadata": {},
          "execution_count": 148
        }
      ]
    },
    {
      "cell_type": "code",
      "source": [
        "mse = Loss()\n",
        "model.compile(loss=mse, learning_rate=0.0001)\n",
        "h = model.fit(X_train, y_train, epochs=150, validation_data=(X_test, y_test))"
      ],
      "metadata": {
        "colab": {
          "base_uri": "https://localhost:8080/"
        },
        "id": "eAr9UDyskGpJ",
        "outputId": "2f75e1ee-5ef2-49e9-c044-9580f71c4870"
      },
      "execution_count": 149,
      "outputs": [
        {
          "output_type": "stream",
          "name": "stdout",
          "text": [
            "Epoch 1 .............. loss : 609.4535263872165  ....val_loss : 594.285047596059\n",
            "Epoch 2 .............. loss : 494.7172454598782  ....val_loss : 479.0339597155269\n",
            "Epoch 3 .............. loss : 403.8643944989146  ....val_loss : 388.125852443045\n",
            "Epoch 4 .............. loss : 331.0559254119759  ....val_loss : 315.67394558965\n",
            "Epoch 5 .............. loss : 272.44802631944543  ....val_loss : 257.80096535791387\n",
            "Epoch 6 .............. loss : 225.32104126553727  ....val_loss : 211.7461595039089\n",
            "Epoch 7 .............. loss : 187.60578616146617  ....val_loss : 175.37471756759948\n",
            "Epoch 8 .............. loss : 157.62037539699094  ....val_loss : 146.91491099254424\n",
            "Epoch 9 .............. loss : 133.9379615740088  ....val_loss : 124.84238208175846\n",
            "Epoch 10 .............. loss : 115.33306807953525  ....val_loss : 107.84460906755527\n",
            "Epoch 11 .............. loss : 100.76383198721742  ....val_loss : 94.8136613248053\n",
            "Epoch 12 .............. loss : 89.36281102397759  ....val_loss : 84.83959359519152\n",
            "Epoch 13 .............. loss : 80.42414713510476  ....val_loss : 77.19470874462637\n",
            "Epoch 14 .............. loss : 73.38501999017595  ....val_loss : 71.30927122086527\n",
            "Epoch 15 .............. loss : 67.80394933610259  ....val_loss : 66.74384710569032\n",
            "Epoch 16 .............. loss : 63.338980777709935  ....val_loss : 63.16320594326976\n",
            "Epoch 17 .............. loss : 59.72772046662133  ....val_loss : 60.31410463055445\n",
            "Epoch 18 .............. loss : 56.77014011013003  ....val_loss : 58.00697905732569\n",
            "Epoch 19 .............. loss : 54.314382766974546  ....val_loss : 56.10095172821895\n",
            "Epoch 20 .............. loss : 52.245467403626975  ....val_loss : 54.49191732965117\n",
            "Epoch 21 .............. loss : 50.47654447278566  ....val_loss : 53.1034202822021\n",
            "Epoch 22 .............. loss : 48.942161999056076  ....val_loss : 51.87970350441654\n",
            "Epoch 23 .............. loss : 47.59303981617112  ....val_loss : 50.780330560710794\n",
            "Epoch 24 .............. loss : 46.392019075413714  ....val_loss : 49.776027668240474\n",
            "Epoch 25 .............. loss : 45.31096948445956  ....val_loss : 48.84553815905314\n",
            "Epoch 26 .............. loss : 44.32847517552106  ....val_loss : 47.97331299490986\n",
            "Epoch 27 .............. loss : 43.4281343598411  ....val_loss : 47.147866866640136\n",
            "Epoch 28 .............. loss : 42.59732683484983  ....val_loss : 46.36064944995507\n",
            "Epoch 29 .............. loss : 41.82632768413527  ....val_loss : 45.605311093475684\n",
            "Epoch 30 .............. loss : 41.10766782791384  ....val_loss : 44.87726565591287\n",
            "Epoch 31 .............. loss : 40.43565769907934  ....val_loss : 44.17345671665201\n",
            "Epoch 32 .............. loss : 39.80600064159016  ....val_loss : 43.49221408000989\n",
            "Epoch 33 .............. loss : 39.215436372136075  ....val_loss : 42.83306654260564\n",
            "Epoch 34 .............. loss : 38.6613841238386  ....val_loss : 42.19640255910404\n",
            "Epoch 35 .............. loss : 38.14160148197  ....val_loss : 41.582977151351066\n",
            "Epoch 36 .............. loss : 37.65391501487248  ....val_loss : 40.99340130420351\n",
            "Epoch 37 .............. loss : 37.19607734993321  ....val_loss : 40.427797681822355\n",
            "Epoch 38 .............. loss : 36.765757738138504  ....val_loss : 39.88571176993216\n",
            "Epoch 39 .............. loss : 36.36061993592687  ....val_loss : 39.366225827214805\n",
            "Epoch 40 .............. loss : 35.9784234656955  ....val_loss : 38.868155209383524\n",
            "Epoch 41 .............. loss : 35.617102700902  ....val_loss : 38.390229029964544\n",
            "Epoch 42 .............. loss : 35.27480708792659  ....val_loss : 37.93121150658964\n",
            "Epoch 43 .............. loss : 34.94990589755357  ....val_loss : 37.489960848761314\n",
            "Epoch 44 .............. loss : 34.64096896707942  ....val_loss : 37.06544069044981\n",
            "Epoch 45 .............. loss : 34.34673549473888  ....val_loss : 36.656703391349964\n",
            "Epoch 46 .............. loss : 34.06608054688218  ....val_loss : 36.26286278090327\n",
            "Epoch 47 .............. loss : 33.79798576157045  ....val_loss : 35.8830693990944\n",
            "Epoch 48 .............. loss : 33.54151756594019  ....val_loss : 35.51649538738862\n",
            "Epoch 49 .............. loss : 33.295813469490774  ....val_loss : 35.1623304451514\n",
            "Epoch 50 .............. loss : 33.06007504271835  ....val_loss : 34.81978629766011\n",
            "Epoch 51 .............. loss : 32.83356527482038  ....val_loss : 34.48810562414441\n",
            "Epoch 52 .............. loss : 32.61560802327613  ....val_loss : 34.166571869850216\n",
            "Epoch 53 .............. loss : 32.40558784871422  ....val_loss : 33.85451772047728\n",
            "Epoch 54 .............. loss : 32.202949254775206  ....val_loss : 33.551331322479314\n",
            "Epoch 55 .............. loss : 32.007194946988  ....val_loss : 33.25646015967647\n",
            "Epoch 56 .............. loss : 31.817883087859673  ....val_loss : 32.96941282770702\n",
            "Epoch 57 .............. loss : 31.634623681634665  ....val_loss : 32.68975895187364\n",
            "Epoch 58 .............. loss : 31.457074246267982  ....val_loss : 32.41712736155871\n",
            "Epoch 59 .............. loss : 31.28493489871303  ....val_loss : 32.151202510159074\n",
            "Epoch 60 .............. loss : 31.11794294998327  ....val_loss : 31.89171910094423\n",
            "Epoch 61 .............. loss : 30.955867111220783  ....val_loss : 31.63845498126893\n",
            "Epoch 62 .............. loss : 30.798501459312636  ....val_loss : 31.391222584969668\n",
            "Epoch 63 .............. loss : 30.645659386547436  ....val_loss : 31.149859473979227\n",
            "Epoch 64 .............. loss : 30.497167833436613  ....val_loss : 30.914218762685792\n",
            "Epoch 65 .............. loss : 30.352862142074976  ....val_loss : 30.68416031040627\n",
            "Epoch 66 .............. loss : 30.212581843342793  ....val_loss : 30.45954348544016\n",
            "Epoch 67 .............. loss : 30.076167599880154  ....val_loss : 30.240222049671715\n",
            "Epoch 68 .............. loss : 29.943459387228504  ....val_loss : 30.026041357434682\n",
            "Epoch 69 .............. loss : 29.81429584334349  ....val_loss : 29.81683770707524\n",
            "Epoch 70 .............. loss : 29.688514589159947  ....val_loss : 29.612439416054652\n",
            "Epoch 71 .............. loss : 29.565953245530167  ....val_loss : 29.41266905566337\n",
            "Epoch 72 .............. loss : 29.446450851868157  ....val_loss : 29.217346276557524\n",
            "Epoch 73 .............. loss : 29.3298494201223  ....val_loss : 29.026290745082914\n",
            "Epoch 74 .............. loss : 29.2159954161379  ....val_loss : 28.839324845115105\n",
            "Epoch 75 .............. loss : 29.104741029809762  ....val_loss : 28.656275939766143\n",
            "Epoch 76 .............. loss : 28.99594516068419  ....val_loss : 28.47697810555209\n",
            "Epoch 77 .............. loss : 28.889474098142035  ....val_loss : 28.301273337410766\n",
            "Epoch 78 .............. loss : 28.785201911977875  ....val_loss : 28.12901227622496\n",
            "Epoch 79 .............. loss : 28.683010591008  ....val_loss : 27.96005453707506\n",
            "Epoch 80 .............. loss : 28.582789977236505  ....val_loss : 27.7942687240216\n",
            "Epoch 81 .............. loss : 28.48443754459485  ....val_loss : 27.63153221298081\n",
            "Epoch 82 .............. loss : 28.38785806754813  ....val_loss : 27.47173077380462\n",
            "Epoch 83 .............. loss : 28.292963218445838  ....val_loss : 27.314758089862796\n",
            "Epoch 84 .............. loss : 28.19967112514306  ....val_loss : 27.16051522061794\n",
            "Epoch 85 .............. loss : 28.10790591323169  ....val_loss : 27.00891004114925\n",
            "Epoch 86 .............. loss : 28.01759725079982  ....val_loss : 26.859856682858847\n",
            "Epoch 87 .............. loss : 27.92867990823961  ....val_loss : 26.713274991787337\n",
            "Epoch 88 .............. loss : 27.841093341289376  ....val_loss : 26.56909001493585\n",
            "Epoch 89 .............. loss : 27.75478130214716  ....val_loss : 26.427231520499202\n",
            "Epoch 90 .............. loss : 27.669691480994977  ....val_loss : 26.287633554686362\n",
            "Epoch 91 .............. loss : 27.58577517847407  ....val_loss : 26.15023403557705\n",
            "Epoch 92 .............. loss : 27.5029870084069  ....val_loss : 26.014974383004574\n",
            "Epoch 93 .............. loss : 27.421284629242212  ....val_loss : 25.881799182570322\n",
            "Epoch 94 .............. loss : 27.340628502200172  ....val_loss : 25.750655881423725\n",
            "Epoch 95 .............. loss : 27.26098167382669  ....val_loss : 25.62149451325792\n",
            "Epoch 96 .............. loss : 27.18230958056549  ....val_loss : 25.4942674499789\n",
            "Epoch 97 .............. loss : 27.10457987296989  ....val_loss : 25.36892917763184\n",
            "Epoch 98 .............. loss : 27.027762257267355  ....val_loss : 25.245436094358304\n",
            "Epoch 99 .............. loss : 26.951828352129755  ....val_loss : 25.12374632837613\n",
            "Epoch 100 .............. loss : 26.87675155867179  ....val_loss : 25.003819574193948\n",
            "Epoch 101 .............. loss : 26.80250694188499  ....val_loss : 24.885616945477768\n",
            "Epoch 102 .............. loss : 26.72907112190448  ....val_loss : 24.76910084317046\n",
            "Epoch 103 .............. loss : 26.656422173695486  ....val_loss : 24.654234837620933\n",
            "Epoch 104 .............. loss : 26.584539533929245  ....val_loss : 24.540983563608503\n",
            "Epoch 105 .............. loss : 26.513403913993365  ....val_loss : 24.429312627250923\n",
            "Epoch 106 .............. loss : 26.442997218245473  ....val_loss : 24.31918852386517\n",
            "Epoch 107 .............. loss : 26.37330246677077  ....val_loss : 24.210578565912243\n",
            "Epoch 108 .............. loss : 26.30430372204368  ....val_loss : 24.10345082020478\n",
            "Epoch 109 .............. loss : 26.235986019018913  ....val_loss : 23.997774053593595\n",
            "Epoch 110 .............. loss : 26.16833529828923  ....val_loss : 23.893517686379237\n",
            "Epoch 111 .............. loss : 26.101338342044805  ....val_loss : 23.79065175272151\n",
            "Epoch 112 .............. loss : 26.0349827126528  ....val_loss : 23.68914686734416\n",
            "Epoch 113 .............. loss : 25.969256693745816  ....val_loss : 23.588974197858512\n",
            "Epoch 114 .............. loss : 25.904149233764535  ....val_loss : 23.49010544205569\n",
            "Epoch 115 .............. loss : 25.83964989194355  ....val_loss : 23.39251280954827\n",
            "Epoch 116 .............. loss : 25.77574878676168  ....val_loss : 23.296169007174143\n",
            "Epoch 117 .............. loss : 25.712436546898793  ....val_loss : 23.201047227611557\n",
            "Epoch 118 .............. loss : 25.64970426475255  ....val_loss : 23.107121140692442\n",
            "Epoch 119 .............. loss : 25.587543452570834  ....val_loss : 23.014364886941628\n",
            "Epoch 120 .............. loss : 25.525946001251373  ....val_loss : 22.922753072911924\n",
            "Epoch 121 .............. loss : 25.46490414184905  ....val_loss : 22.83226076792713\n",
            "Epoch 122 .............. loss : 25.404410409816638  ....val_loss : 22.74286350188819\n",
            "Epoch 123 .............. loss : 25.344457611986456  ....val_loss : 22.65453726384\n",
            "Epoch 124 .............. loss : 25.28503879627986  ....val_loss : 22.567258501036637\n",
            "Epoch 125 .............. loss : 25.226147224110633  ....val_loss : 22.48100411828211\n",
            "Epoch 126 .............. loss : 25.16777634542719  ....val_loss : 22.39575147736038\n",
            "Epoch 127 .............. loss : 25.10991977631833  ....val_loss : 22.31147839640187\n",
            "Epoch 128 .............. loss : 25.05257127908885  ....val_loss : 22.22816314906518\n",
            "Epoch 129 .............. loss : 24.9957247446948  ....val_loss : 22.145784463440464\n",
            "Epoch 130 .............. loss : 24.93937417741419  ....val_loss : 22.064321520605528\n",
            "Epoch 131 .............. loss : 24.88351368161772  ....val_loss : 21.983753952787616\n",
            "Epoch 132 .............. loss : 24.82813745049533  ....val_loss : 21.904061841102322\n",
            "Epoch 133 .............. loss : 24.773239756588698  ....val_loss : 21.8252257128568\n",
            "Epoch 134 .............. loss : 24.718814943976415  ....val_loss : 21.74722653841746\n",
            "Epoch 135 .............. loss : 24.664857421957816  ....val_loss : 21.670045727652816\n",
            "Epoch 136 .............. loss : 24.61136166008277  ....val_loss : 21.59366512597048\n",
            "Epoch 137 .............. loss : 24.558322184378078  ....val_loss : 21.51806700997318\n",
            "Epoch 138 .............. loss : 24.505733574626102  ....val_loss : 21.443234082763546\n",
            "Epoch 139 .............. loss : 24.453590462557475  ....val_loss : 21.369149468929805\n",
            "Epoch 140 .............. loss : 24.401887530827313  ....val_loss : 21.295796709246424\n",
            "Epoch 141 .............. loss : 24.350619512652397  ....val_loss : 21.223159755123795\n",
            "Epoch 142 .............. loss : 24.299781191995653  ....val_loss : 21.151222962841146\n",
            "Epoch 143 .............. loss : 24.249367404193457  ....val_loss : 21.079971087595062\n",
            "Epoch 144 .............. loss : 24.19937303693042  ....val_loss : 21.00938927739476\n",
            "Epoch 145 .............. loss : 24.149793031475543  ....val_loss : 20.939463066832875\n",
            "Epoch 146 .............. loss : 24.100622384102994  ....val_loss : 20.870178370758428\n",
            "Epoch 147 .............. loss : 24.051856147629017  ....val_loss : 20.801521477875614\n",
            "Epoch 148 .............. loss : 24.00348943300558  ....val_loss : 20.733479044290082\n",
            "Epoch 149 .............. loss : 23.955517410918613  ....val_loss : 20.66603808702128\n",
            "Epoch 150 .............. loss : 23.907935313346876  ....val_loss : 20.59918597749719\n"
          ]
        }
      ]
    },
    {
      "cell_type": "code",
      "source": [
        "plot_learning_curve(h)"
      ],
      "metadata": {
        "colab": {
          "base_uri": "https://localhost:8080/",
          "height": 472
        },
        "id": "miosloDBkRsC",
        "outputId": "d2118f7a-0e94-4311-90ce-ffb35822bd67"
      },
      "execution_count": 150,
      "outputs": [
        {
          "output_type": "display_data",
          "data": {
            "text/plain": [
              "<Figure size 640x480 with 1 Axes>"
            ],
            "image/png": "[encoded data removed]"
          },
          "metadata": {}
        }
      ]
    },
    {
      "cell_type": "markdown",
      "source": [
        "## Sauvegarder le modèle"
      ],
      "metadata": {
        "id": "X35ONGZul5Qe"
      }
    },
    {
      "cell_type": "code",
      "source": [
        "model\n",
        "model.save_model('model.file')"
      ],
      "metadata": {
        "id": "sejSJPoQlM1R"
      },
      "execution_count": 152,
      "outputs": []
    },
    {
      "cell_type": "code",
      "source": [
        "import pickle\n",
        "\n",
        "def load_model(file):\n",
        "  with open(file, 'rb') as f:\n",
        "    model_load = pickle.load(f)\n",
        "  return model_load"
      ],
      "metadata": {
        "id": "TTEAcwCRmlB4"
      },
      "execution_count": 153,
      "outputs": []
    },
    {
      "cell_type": "code",
      "source": [
        "model_loaded = load_model(\"model.file\")\n",
        "model_loaded"
      ],
      "metadata": {
        "colab": {
          "base_uri": "https://localhost:8080/"
        },
        "id": "8dL2YW55nHAl",
        "outputId": "23cf546e-491a-410d-d48c-0febb15f89bc"
      },
      "execution_count": 154,
      "outputs": [
        {
          "output_type": "execute_result",
          "data": {
            "text/plain": [
              "Layers ................. \n",
              " DenseLayer(neurons=13) avec Sigmoid \n",
              " DenseLayer(neurons=1)"
            ]
          },
          "metadata": {},
          "execution_count": 154
        }
      ]
    },
    {
      "cell_type": "code",
      "source": [],
      "metadata": {
        "id": "jaXENIKnnOh6"
      },
      "execution_count": null,
      "outputs": []
    }
  ]
}