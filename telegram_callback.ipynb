{
  "cells": [
    {
      "cell_type": "markdown",
      "metadata": {
        "id": "view-in-github",
        "colab_type": "text"
      },
      "source": [
        "<a href=\"https://colab.research.google.com/github/salim4n/Mes-Notebooks/blob/main/telegram_callback.ipynb\" target=\"_parent\"><img src=\"https://colab.research.google.com/assets/colab-badge.svg\" alt=\"Open In Colab\"/></a>"
      ]
    },
    {
      "cell_type": "code",
      "execution_count": null,
      "metadata": {
        "id": "TTBSvHcSLBzc"
      },
      "outputs": [],
      "source": [
        "import tensorflow as tf\n",
        "import tensorflow_datasets as tfds"
      ]
    },
    {
      "cell_type": "code",
      "execution_count": null,
      "metadata": {
        "id": "ZUMhCXhFXdHQ"
      },
      "outputs": [],
      "source": [
        "(ds_train, ds_test), ds_info = tfds.load(\n",
        "    'mnist',\n",
        "    split=['train', 'test'],\n",
        "    shuffle_files=True,\n",
        "    as_supervised=True,\n",
        "    with_info=True,\n",
        ")"
      ]
    },
    {
      "cell_type": "code",
      "execution_count": null,
      "metadata": {
        "id": "haykx2K9XgiI"
      },
      "outputs": [],
      "source": [
        "def normalize_img(image, label):\n",
        "  \"\"\"Normalizes images: `uint8` -> `float32`.\"\"\"\n",
        "  return tf.cast(image, tf.float32) / 255., label\n",
        "\n",
        "ds_train = ds_train.map(\n",
        "    normalize_img, num_parallel_calls=tf.data.AUTOTUNE)\n",
        "ds_train = ds_train.cache()\n",
        "ds_train = ds_train.shuffle(ds_info.splits['train'].num_examples)\n",
        "ds_train = ds_train.batch(128)\n",
        "ds_train = ds_train.prefetch(tf.data.AUTOTUNE)"
      ]
    },
    {
      "cell_type": "code",
      "execution_count": null,
      "metadata": {
        "id": "A0KjuDf7XiqY"
      },
      "outputs": [],
      "source": [
        "ds_test = ds_test.map(\n",
        "    normalize_img, num_parallel_calls=tf.data.AUTOTUNE)\n",
        "ds_test = ds_test.batch(128)\n",
        "ds_test = ds_test.cache()\n",
        "ds_test = ds_test.prefetch(tf.data.AUTOTUNE)"
      ]
    },
    {
      "cell_type": "code",
      "source": [
        "import tensorflow as tf\n",
        "import requests\n",
        "from datetime import datetime\n",
        "\n",
        "class TelegramCallback(tf.keras.callbacks.Callback):\n",
        "    def __init__(self, bot_token, chat_id, send_interval=1):\n",
        "        \"\"\"\n",
        "        Initialise le callback Telegram\n",
        "\n",
        "        Args:\n",
        "            bot_token (str): Token du bot Telegram\n",
        "            chat_id (str): ID du chat où envoyer les messages\n",
        "            send_interval (int): Envoyer un message tous les N epochs\n",
        "        \"\"\"\n",
        "        super().__init__()\n",
        "        self.bot_token = bot_token\n",
        "        self.chat_id = chat_id\n",
        "        self.send_interval = send_interval\n",
        "        self.base_url = f\"https://api.telegram.org/bot{bot_token}/sendMessage\"\n",
        "\n",
        "    def send_message(self, message):\n",
        "        \"\"\"Envoie un message via l'API Telegram\"\"\"\n",
        "        payload = {\n",
        "            'chat_id': self.chat_id,\n",
        "            'text': message,\n",
        "            'parse_mode': 'HTML'\n",
        "        }\n",
        "        try:\n",
        "            response = requests.post(self.base_url, json=payload)\n",
        "            response.raise_for_status()\n",
        "        except Exception as e:\n",
        "            print(f\"Erreur lors de l'envoi du message Telegram: {e}\")\n",
        "\n",
        "    def on_train_begin(self, logs=None):\n",
        "        \"\"\"Appelé au début de l'entraînement\"\"\"\n",
        "        start_time = datetime.now().strftime(\"%Y-%m-%d %H:%M:%S\")\n",
        "        message = f\"🚀 <b>Début de l'entraînement</b>\\n\"\n",
        "        message += f\"Heure de début: {start_time}\"\n",
        "        self.send_message(message)\n",
        "\n",
        "    def on_epoch_end(self, epoch, logs=None):\n",
        "        \"\"\"Appelé à la fin de chaque epoch\"\"\"\n",
        "        logs = logs or {}\n",
        "\n",
        "        # N'envoyer que tous les N epochs\n",
        "        if (epoch + 1) % self.send_interval != 0:\n",
        "            return\n",
        "\n",
        "        # Créer le message avec les métriques\n",
        "        message = f\"📊 <b>Epoch {epoch + 1}</b>\\n\\n\"\n",
        "\n",
        "        for metric, value in logs.items():\n",
        "            message += f\"{metric}: {value:.4f}\\n\"\n",
        "\n",
        "        self.send_message(message)\n",
        "\n",
        "    def on_train_end(self, logs=None):\n",
        "        \"\"\"Appelé à la fin de l'entraînement\"\"\"\n",
        "        end_time = datetime.now().strftime(\"%Y-%m-%d %H:%M:%S\")\n",
        "        message = f\"✅ <b>Entraînement terminé</b>\\n\"\n",
        "        message += f\"Heure de fin: {end_time}\"\n",
        "        self.send_message(message)"
      ],
      "metadata": {
        "id": "weGjWL1r-DRM"
      },
      "execution_count": null,
      "outputs": []
    },
    {
      "cell_type": "code",
      "execution_count": null,
      "metadata": {
        "id": "XWqxdmS1NLKA"
      },
      "outputs": [],
      "source": [
        "\n",
        "telegram_callback = TelegramCallback(\n",
        "    bot_token='your-bot-token',\n",
        "    chat_id='your-chat-id',\n",
        "    send_interval=1\n",
        ")\n",
        "\n",
        "model = tf.keras.models.Sequential([\n",
        "    tf.keras.layers.Flatten(input_shape=(28, 28)),\n",
        "    tf.keras.layers.Dense(128, activation='relu'),\n",
        "    tf.keras.layers.Dense(10)\n",
        "])\n",
        "\n",
        "model.compile(\n",
        "    optimizer=tf.keras.optimizers.Adam(0.001),\n",
        "    loss=tf.keras.losses.SparseCategoricalCrossentropy(from_logits=True),\n",
        "    metrics=[tf.keras.metrics.SparseCategoricalAccuracy()],\n",
        ")\n",
        "\n",
        "\n",
        "model.fit(\n",
        "    ds_train,\n",
        "    epochs=6,\n",
        "    validation_data=ds_test,\n",
        "    callbacks=[telegram_callback]\n",
        ")"
      ]
    }
  ],
  "metadata": {
    "colab": {
      "private_outputs": true,
      "provenance": [],
      "include_colab_link": true
    },
    "kernelspec": {
      "display_name": "Python 3",
      "name": "python3"
    }
  },
  "nbformat": 4,
  "nbformat_minor": 0
}