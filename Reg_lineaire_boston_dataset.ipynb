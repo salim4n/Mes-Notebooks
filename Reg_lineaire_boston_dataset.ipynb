{
  "nbformat": 4,
  "nbformat_minor": 0,
  "metadata": {
    "colab": {
      "provenance": [],
      "authorship_tag": "ABX9TyMQb0r9qgDcne4AP+NIXkNB",
      "include_colab_link": true
    },
    "kernelspec": {
      "name": "python3",
      "display_name": "Python 3"
    },
    "language_info": {
      "name": "python"
    }
  },
  "cells": [
    {
      "cell_type": "markdown",
      "metadata": {
        "id": "view-in-github",
        "colab_type": "text"
      },
      "source": [
        "<a href=\"https://colab.research.google.com/github/salim4n/kaggle_competition/blob/main/Reg_lineaire_boston_dataset.ipynb\" target=\"_parent\"><img src=\"https://colab.research.google.com/assets/colab-badge.svg\" alt=\"Open In Colab\"/></a>"
      ]
    },
    {
      "cell_type": "code",
      "execution_count": 41,
      "metadata": {
        "id": "ci6yl3m74VhR"
      },
      "outputs": [],
      "source": [
        "import pandas as pd\n",
        "import numpy as np\n",
        "\n",
        "data_url = \"http://lib.stat.cmu.edu/datasets/boston\"\n",
        "raw_df = pd.read_csv(data_url, sep=\"\\s+\", skiprows=22, header=None)\n",
        "data = np.hstack([raw_df.values[::2, :], raw_df.values[1::2, :2]])\n",
        "target = raw_df.values[1::2, 2]\n",
        "data = data\n",
        "target = target\n"
      ]
    },
    {
      "cell_type": "code",
      "source": [
        "data"
      ],
      "metadata": {
        "colab": {
          "base_uri": "https://localhost:8080/"
        },
        "id": "nf3Ri31x5TQ-",
        "outputId": "e3f00858-83cd-4552-a8ed-f48bb8c37680"
      },
      "execution_count": 42,
      "outputs": [
        {
          "output_type": "execute_result",
          "data": {
            "text/plain": [
              "array([[6.3200e-03, 1.8000e+01, 2.3100e+00, ..., 1.5300e+01, 3.9690e+02,\n",
              "        4.9800e+00],\n",
              "       [2.7310e-02, 0.0000e+00, 7.0700e+00, ..., 1.7800e+01, 3.9690e+02,\n",
              "        9.1400e+00],\n",
              "       [2.7290e-02, 0.0000e+00, 7.0700e+00, ..., 1.7800e+01, 3.9283e+02,\n",
              "        4.0300e+00],\n",
              "       ...,\n",
              "       [6.0760e-02, 0.0000e+00, 1.1930e+01, ..., 2.1000e+01, 3.9690e+02,\n",
              "        5.6400e+00],\n",
              "       [1.0959e-01, 0.0000e+00, 1.1930e+01, ..., 2.1000e+01, 3.9345e+02,\n",
              "        6.4800e+00],\n",
              "       [4.7410e-02, 0.0000e+00, 1.1930e+01, ..., 2.1000e+01, 3.9690e+02,\n",
              "        7.8800e+00]])"
            ]
          },
          "metadata": {},
          "execution_count": 42
        }
      ]
    },
    {
      "cell_type": "code",
      "source": [
        "data.shape"
      ],
      "metadata": {
        "colab": {
          "base_uri": "https://localhost:8080/"
        },
        "id": "LPsouFUB5aq1",
        "outputId": "8198697a-7685-410b-c769-07a9e2d8c58a"
      },
      "execution_count": 43,
      "outputs": [
        {
          "output_type": "execute_result",
          "data": {
            "text/plain": [
              "(506, 13)"
            ]
          },
          "metadata": {},
          "execution_count": 43
        }
      ]
    },
    {
      "cell_type": "code",
      "source": [
        "target"
      ],
      "metadata": {
        "colab": {
          "base_uri": "https://localhost:8080/"
        },
        "id": "Nf8gYG9E5cVV",
        "outputId": "5b272973-3a58-4822-8c15-89880251b6db"
      },
      "execution_count": 44,
      "outputs": [
        {
          "output_type": "execute_result",
          "data": {
            "text/plain": [
              "array([24. , 21.6, 34.7, 33.4, 36.2, 28.7, 22.9, 27.1, 16.5, 18.9, 15. ,\n",
              "       18.9, 21.7, 20.4, 18.2, 19.9, 23.1, 17.5, 20.2, 18.2, 13.6, 19.6,\n",
              "       15.2, 14.5, 15.6, 13.9, 16.6, 14.8, 18.4, 21. , 12.7, 14.5, 13.2,\n",
              "       13.1, 13.5, 18.9, 20. , 21. , 24.7, 30.8, 34.9, 26.6, 25.3, 24.7,\n",
              "       21.2, 19.3, 20. , 16.6, 14.4, 19.4, 19.7, 20.5, 25. , 23.4, 18.9,\n",
              "       35.4, 24.7, 31.6, 23.3, 19.6, 18.7, 16. , 22.2, 25. , 33. , 23.5,\n",
              "       19.4, 22. , 17.4, 20.9, 24.2, 21.7, 22.8, 23.4, 24.1, 21.4, 20. ,\n",
              "       20.8, 21.2, 20.3, 28. , 23.9, 24.8, 22.9, 23.9, 26.6, 22.5, 22.2,\n",
              "       23.6, 28.7, 22.6, 22. , 22.9, 25. , 20.6, 28.4, 21.4, 38.7, 43.8,\n",
              "       33.2, 27.5, 26.5, 18.6, 19.3, 20.1, 19.5, 19.5, 20.4, 19.8, 19.4,\n",
              "       21.7, 22.8, 18.8, 18.7, 18.5, 18.3, 21.2, 19.2, 20.4, 19.3, 22. ,\n",
              "       20.3, 20.5, 17.3, 18.8, 21.4, 15.7, 16.2, 18. , 14.3, 19.2, 19.6,\n",
              "       23. , 18.4, 15.6, 18.1, 17.4, 17.1, 13.3, 17.8, 14. , 14.4, 13.4,\n",
              "       15.6, 11.8, 13.8, 15.6, 14.6, 17.8, 15.4, 21.5, 19.6, 15.3, 19.4,\n",
              "       17. , 15.6, 13.1, 41.3, 24.3, 23.3, 27. , 50. , 50. , 50. , 22.7,\n",
              "       25. , 50. , 23.8, 23.8, 22.3, 17.4, 19.1, 23.1, 23.6, 22.6, 29.4,\n",
              "       23.2, 24.6, 29.9, 37.2, 39.8, 36.2, 37.9, 32.5, 26.4, 29.6, 50. ,\n",
              "       32. , 29.8, 34.9, 37. , 30.5, 36.4, 31.1, 29.1, 50. , 33.3, 30.3,\n",
              "       34.6, 34.9, 32.9, 24.1, 42.3, 48.5, 50. , 22.6, 24.4, 22.5, 24.4,\n",
              "       20. , 21.7, 19.3, 22.4, 28.1, 23.7, 25. , 23.3, 28.7, 21.5, 23. ,\n",
              "       26.7, 21.7, 27.5, 30.1, 44.8, 50. , 37.6, 31.6, 46.7, 31.5, 24.3,\n",
              "       31.7, 41.7, 48.3, 29. , 24. , 25.1, 31.5, 23.7, 23.3, 22. , 20.1,\n",
              "       22.2, 23.7, 17.6, 18.5, 24.3, 20.5, 24.5, 26.2, 24.4, 24.8, 29.6,\n",
              "       42.8, 21.9, 20.9, 44. , 50. , 36. , 30.1, 33.8, 43.1, 48.8, 31. ,\n",
              "       36.5, 22.8, 30.7, 50. , 43.5, 20.7, 21.1, 25.2, 24.4, 35.2, 32.4,\n",
              "       32. , 33.2, 33.1, 29.1, 35.1, 45.4, 35.4, 46. , 50. , 32.2, 22. ,\n",
              "       20.1, 23.2, 22.3, 24.8, 28.5, 37.3, 27.9, 23.9, 21.7, 28.6, 27.1,\n",
              "       20.3, 22.5, 29. , 24.8, 22. , 26.4, 33.1, 36.1, 28.4, 33.4, 28.2,\n",
              "       22.8, 20.3, 16.1, 22.1, 19.4, 21.6, 23.8, 16.2, 17.8, 19.8, 23.1,\n",
              "       21. , 23.8, 23.1, 20.4, 18.5, 25. , 24.6, 23. , 22.2, 19.3, 22.6,\n",
              "       19.8, 17.1, 19.4, 22.2, 20.7, 21.1, 19.5, 18.5, 20.6, 19. , 18.7,\n",
              "       32.7, 16.5, 23.9, 31.2, 17.5, 17.2, 23.1, 24.5, 26.6, 22.9, 24.1,\n",
              "       18.6, 30.1, 18.2, 20.6, 17.8, 21.7, 22.7, 22.6, 25. , 19.9, 20.8,\n",
              "       16.8, 21.9, 27.5, 21.9, 23.1, 50. , 50. , 50. , 50. , 50. , 13.8,\n",
              "       13.8, 15. , 13.9, 13.3, 13.1, 10.2, 10.4, 10.9, 11.3, 12.3,  8.8,\n",
              "        7.2, 10.5,  7.4, 10.2, 11.5, 15.1, 23.2,  9.7, 13.8, 12.7, 13.1,\n",
              "       12.5,  8.5,  5. ,  6.3,  5.6,  7.2, 12.1,  8.3,  8.5,  5. , 11.9,\n",
              "       27.9, 17.2, 27.5, 15. , 17.2, 17.9, 16.3,  7. ,  7.2,  7.5, 10.4,\n",
              "        8.8,  8.4, 16.7, 14.2, 20.8, 13.4, 11.7,  8.3, 10.2, 10.9, 11. ,\n",
              "        9.5, 14.5, 14.1, 16.1, 14.3, 11.7, 13.4,  9.6,  8.7,  8.4, 12.8,\n",
              "       10.5, 17.1, 18.4, 15.4, 10.8, 11.8, 14.9, 12.6, 14.1, 13. , 13.4,\n",
              "       15.2, 16.1, 17.8, 14.9, 14.1, 12.7, 13.5, 14.9, 20. , 16.4, 17.7,\n",
              "       19.5, 20.2, 21.4, 19.9, 19. , 19.1, 19.1, 20.1, 19.9, 19.6, 23.2,\n",
              "       29.8, 13.8, 13.3, 16.7, 12. , 14.6, 21.4, 23. , 23.7, 25. , 21.8,\n",
              "       20.6, 21.2, 19.1, 20.6, 15.2,  7. ,  8.1, 13.6, 20.1, 21.8, 24.5,\n",
              "       23.1, 19.7, 18.3, 21.2, 17.5, 16.8, 22.4, 20.6, 23.9, 22. , 11.9])"
            ]
          },
          "metadata": {},
          "execution_count": 44
        }
      ]
    },
    {
      "cell_type": "code",
      "source": [
        "target.shape"
      ],
      "metadata": {
        "colab": {
          "base_uri": "https://localhost:8080/"
        },
        "id": "QBg6061H5fxf",
        "outputId": "dadade35-a764-428a-f980-9f6f1550faef"
      },
      "execution_count": 45,
      "outputs": [
        {
          "output_type": "execute_result",
          "data": {
            "text/plain": [
              "(506,)"
            ]
          },
          "metadata": {},
          "execution_count": 45
        }
      ]
    },
    {
      "cell_type": "code",
      "source": [
        "X = data\n",
        "Y = target.reshape(506, 1)"
      ],
      "metadata": {
        "id": "0x9fAl0Z5i4l"
      },
      "execution_count": 46,
      "outputs": []
    },
    {
      "cell_type": "markdown",
      "source": [
        "## Train Test Split"
      ],
      "metadata": {
        "id": "6-l4FPjR5xkV"
      }
    },
    {
      "cell_type": "code",
      "source": [
        "from sklearn.model_selection import train_test_split\n"
      ],
      "metadata": {
        "id": "0sMbRuZp5vxd"
      },
      "execution_count": 47,
      "outputs": []
    },
    {
      "cell_type": "code",
      "source": [
        "X_train, X_test,y_train, y_test = train_test_split(X, Y, test_size=0.25, random_state=0)"
      ],
      "metadata": {
        "id": "Vj_4zqyu6Uj5"
      },
      "execution_count": 48,
      "outputs": []
    },
    {
      "cell_type": "code",
      "source": [
        "X_train.shape"
      ],
      "metadata": {
        "colab": {
          "base_uri": "https://localhost:8080/"
        },
        "id": "S_DZVAXH6yqE",
        "outputId": "51ce30e0-b746-4ee5-be82-97be7c227a3f"
      },
      "execution_count": 49,
      "outputs": [
        {
          "output_type": "execute_result",
          "data": {
            "text/plain": [
              "(379, 13)"
            ]
          },
          "metadata": {},
          "execution_count": 49
        }
      ]
    },
    {
      "cell_type": "code",
      "source": [
        "X_test.shape"
      ],
      "metadata": {
        "colab": {
          "base_uri": "https://localhost:8080/"
        },
        "id": "R7r5gQph62IE",
        "outputId": "42384e4b-4dd5-4700-828b-320cacd7ba11"
      },
      "execution_count": 50,
      "outputs": [
        {
          "output_type": "execute_result",
          "data": {
            "text/plain": [
              "(127, 13)"
            ]
          },
          "metadata": {},
          "execution_count": 50
        }
      ]
    },
    {
      "cell_type": "markdown",
      "source": [
        "## Standart Scaler"
      ],
      "metadata": {
        "id": "SgUQEfjW6-U1"
      }
    },
    {
      "cell_type": "code",
      "source": [
        "from sklearn.preprocessing import StandardScaler"
      ],
      "metadata": {
        "id": "HK22r82O64Fe"
      },
      "execution_count": 51,
      "outputs": []
    },
    {
      "cell_type": "code",
      "source": [
        "scaler = StandardScaler()\n",
        "X_train = scaler.fit_transform(X_train)\n",
        "X_test = scaler.transform(X_test)"
      ],
      "metadata": {
        "id": "NEtl42kF7RiL"
      },
      "execution_count": 52,
      "outputs": []
    },
    {
      "cell_type": "code",
      "source": [
        "X_train.mean()"
      ],
      "metadata": {
        "colab": {
          "base_uri": "https://localhost:8080/"
        },
        "id": "zzq8LndC7btS",
        "outputId": "57bf0d0e-3557-4513-e48d-bc43c7e70bff"
      },
      "execution_count": 53,
      "outputs": [
        {
          "output_type": "execute_result",
          "data": {
            "text/plain": [
              "1.545253788039268e-15"
            ]
          },
          "metadata": {},
          "execution_count": 53
        }
      ]
    },
    {
      "cell_type": "markdown",
      "source": [
        "## Entrainement du modèle"
      ],
      "metadata": {
        "id": "kP6depv-7_Ne"
      }
    },
    {
      "cell_type": "code",
      "source": [
        "def erreur(X, Y, params):\n",
        "  info = {}\n",
        "\n",
        "  M = np.dot(X, params['W'])\n",
        "  P = M + params['B']\n",
        "  L = np.mean((Y-P)**2)\n",
        "\n",
        "  info['M'], info['P'] = M, P\n",
        "  info['X'], info['Y'] = X, Y\n",
        "\n",
        "  return L, info"
      ],
      "metadata": {
        "id": "duvs-TZW7uNE"
      },
      "execution_count": 54,
      "outputs": []
    },
    {
      "cell_type": "code",
      "source": [
        "def gradient(info, param):\n",
        "  grads = {}\n",
        "  dL_dP = -2*(info['Y']-info['P'])\n",
        "  dP_dM = 1\n",
        "  dM_dW = info['X'].T\n",
        "\n",
        "  dL_dW = np.dot(dM_dW, dL_dP) * dP_dM\n",
        "  grads['W'] = dL_dW\n",
        "\n",
        "  dP_dB = 1\n",
        "  dL_dB = dL_dP * dP_dB\n",
        "  dL_dB = np.sum(dL_dB)\n",
        "\n",
        "  grads['B'] = dL_dB\n",
        "\n",
        "  return grads\n"
      ],
      "metadata": {
        "id": "ZPNHVQom8tyu"
      },
      "execution_count": 55,
      "outputs": []
    },
    {
      "cell_type": "code",
      "source": [
        "def train(X,Y,epoch,learning_rate):\n",
        "\n",
        "  # weights initialization\n",
        "  np.random.seed(42)\n",
        "  n_features = X.shape[1]\n",
        "  params = {}\n",
        "  params['W'] = np.random.randn(n_features, 1)\n",
        "  params['B'] = np.random.randn(1,1)\n",
        "\n",
        "\n",
        "  errors = []\n",
        "\n",
        "  for i in range(epoch):\n",
        "\n",
        "    #forward\n",
        "    loss, info = erreur(X,Y,params)\n",
        "    errors.append(loss)\n",
        "    print(f'Epoch {i+1}............ loss : {loss}')\n",
        "\n",
        "    #backward\n",
        "    grads = gradient(info,params)\n",
        "\n",
        "    #update\n",
        "    for p in params :\n",
        "      params[p] = params[p] - learning_rate * grads[p]\n",
        "\n",
        "  return params, errors"
      ],
      "metadata": {
        "id": "eyXOm6019yz_"
      },
      "execution_count": 56,
      "outputs": []
    },
    {
      "cell_type": "code",
      "source": [
        "params, errors = train(X_train, y_train, epoch=50, learning_rate=0.0001)"
      ],
      "metadata": {
        "colab": {
          "base_uri": "https://localhost:8080/"
        },
        "id": "gsVo4fKM-vHs",
        "outputId": "77633e02-8ffb-455c-a350-4331aa5f2f12"
      },
      "execution_count": 62,
      "outputs": [
        {
          "output_type": "stream",
          "name": "stdout",
          "text": [
            "Epoch 1............ loss : 712.1743316753176\n",
            "Epoch 2............ loss : 576.9266828543414\n",
            "Epoch 3............ loss : 485.858491899185\n",
            "Epoch 4............ loss : 415.2086742559719\n",
            "Epoch 5............ loss : 356.9632229723388\n",
            "Epoch 6............ loss : 307.84342137397\n",
            "Epoch 7............ loss : 266.08549083943615\n",
            "Epoch 8............ loss : 230.48512859031536\n",
            "Epoch 9............ loss : 200.10246942244535\n",
            "Epoch 10............ loss : 174.16135658526716\n",
            "Epoch 11............ loss : 152.00725038460388\n",
            "Epoch 12............ loss : 133.0840641810185\n",
            "Epoch 13............ loss : 116.91811788815627\n",
            "Epoch 14............ loss : 103.1055392228527\n",
            "Epoch 15............ loss : 91.30184176600252\n",
            "Epoch 16............ loss : 81.21313594214138\n",
            "Epoch 17............ loss : 72.58866623374146\n",
            "Epoch 18............ loss : 65.21445904094307\n",
            "Epoch 19............ loss : 58.90791093686188\n",
            "Epoch 20............ loss : 53.51317628743457\n",
            "Epoch 21............ loss : 48.89723533426671\n",
            "Epoch 22............ loss : 44.94654186494025\n",
            "Epoch 23............ loss : 41.56416469328747\n",
            "Epoch 24............ loss : 38.66734994534333\n",
            "Epoch 25............ loss : 36.18544199214979\n",
            "Epoch 26............ loss : 34.05811009190945\n",
            "Epoch 27............ loss : 32.23383564908883\n",
            "Epoch 28............ loss : 30.668621674541736\n",
            "Epoch 29............ loss : 29.32489171394951\n",
            "Epoch 30............ loss : 28.17055035055097\n",
            "Epoch 31............ loss : 27.178181508474616\n",
            "Epoch 32............ loss : 26.32436429220324\n",
            "Epoch 33............ loss : 25.589089086896347\n",
            "Epoch 34............ loss : 24.955259190901447\n",
            "Epoch 35............ loss : 24.408265421638085\n",
            "Epoch 36............ loss : 23.935622985122276\n",
            "Epoch 37............ loss : 23.526661475334265\n",
            "Epoch 38............ loss : 23.17226021293382\n",
            "Epoch 39............ loss : 22.86462227796757\n",
            "Epoch 40............ loss : 22.59708156753494\n",
            "Epoch 41............ loss : 22.363938041857786\n",
            "Epoch 42............ loss : 22.1603170321004\n",
            "Epoch 43............ loss : 21.982049088718636\n",
            "Epoch 44............ loss : 21.825567365501144\n",
            "Epoch 45............ loss : 21.68781997493991\n",
            "Epoch 46............ loss : 21.56619512632209\n",
            "Epoch 47............ loss : 21.458457178506563\n",
            "Epoch 48............ loss : 21.36269201286263\n",
            "Epoch 49............ loss : 21.277260365230358\n",
            "Epoch 50............ loss : 21.200757954915026\n"
          ]
        }
      ]
    },
    {
      "cell_type": "code",
      "source": [
        "import matplotlib.pyplot as plt\n",
        "\n",
        "plt.plot(list(range(50)), errors)\n",
        "plt.xlabel(\"Epochs\")\n",
        "plt.ylabel('Loss')\n",
        "plt.title('Learning Curve')\n",
        "plt.show()"
      ],
      "metadata": {
        "colab": {
          "base_uri": "https://localhost:8080/",
          "height": 472
        },
        "id": "Z_8mBB5__EHa",
        "outputId": "fe19c5d1-6631-4e62-b61d-8bae08faf0b9"
      },
      "execution_count": 63,
      "outputs": [
        {
          "output_type": "display_data",
          "data": {
            "text/plain": [
              "<Figure size 640x480 with 1 Axes>"
            ],
            "image/png": "[encoded data removed]"
          },
          "metadata": {}
        }
      ]
    },
    {
      "cell_type": "markdown",
      "source": [
        "## Evaluation sur les données de test"
      ],
      "metadata": {
        "id": "Vdulnh7yDOcL"
      }
    },
    {
      "cell_type": "code",
      "source": [
        "def predict(X, params):\n",
        "  M = np.dot(X, params['W'])\n",
        "  P = M + params['B']\n",
        "  return P"
      ],
      "metadata": {
        "id": "NhWhfkGkCgo0"
      },
      "execution_count": 64,
      "outputs": []
    },
    {
      "cell_type": "code",
      "source": [
        "def mse(y, pred): #mean squared error\n",
        "  return np.mean((y-pred)**2)\n",
        "\n",
        "def rmse(y, pred):\n",
        "  return np.sqrt(np.mean((y-pred)**2))\n",
        "\n",
        "def mae(y, pred):\n",
        "  return np.mean(np.abs(y - pred))"
      ],
      "metadata": {
        "id": "4qqeEj5aDtrh"
      },
      "execution_count": 67,
      "outputs": []
    },
    {
      "cell_type": "code",
      "source": [
        "preds = predict(X_test, params)\n",
        "score_rmse = rmse(y_test, preds)\n",
        "score_mae = mae(y_test, preds)\n",
        "print(\"rmse :\", score_rmse)\n",
        "print(\"mae :\", score_mae)"
      ],
      "metadata": {
        "colab": {
          "base_uri": "https://localhost:8080/"
        },
        "id": "eh6qdiZcEYoo",
        "outputId": "53a098ad-4929-457b-954e-5a624b156a9f"
      },
      "execution_count": 68,
      "outputs": [
        {
          "output_type": "stream",
          "name": "stdout",
          "text": [
            "rmse : 5.789353683592818\n",
            "mae : 3.767565256108071\n"
          ]
        }
      ]
    },
    {
      "cell_type": "markdown",
      "source": [
        "## Comparaison avec Scikit Learn\n"
      ],
      "metadata": {
        "id": "fUOMw5YHF5AW"
      }
    },
    {
      "cell_type": "code",
      "source": [
        "from sklearn.linear_model import LinearRegression\n"
      ],
      "metadata": {
        "id": "1TJGJCH4E7R_"
      },
      "execution_count": 69,
      "outputs": []
    },
    {
      "cell_type": "code",
      "source": [
        "model = LinearRegression()\n",
        "model.fit(X_train, y_train)\n",
        "\n",
        "preds = model.predict(X_test)\n",
        "score_rmse = rmse(y_test, preds)\n",
        "score_mae = mae(y_test, preds)\n",
        "print(\"rmse :\", score_rmse)\n",
        "print(\"mae :\", score_mae)"
      ],
      "metadata": {
        "colab": {
          "base_uri": "https://localhost:8080/"
        },
        "id": "xHQlrqfzGFdk",
        "outputId": "f0a22d9a-2335-4f76-bbb0-9fe61893baf6"
      },
      "execution_count": 70,
      "outputs": [
        {
          "output_type": "stream",
          "name": "stdout",
          "text": [
            "rmse : 5.4573111595640516\n",
            "mae : 3.6683301481357136\n"
          ]
        }
      ]
    },
    {
      "cell_type": "code",
      "source": [
        "plt.scatter(X_train[:, 5], y_train)\n",
        "plt.plot(X_train[:, 5], params[\"W\"][5] * X_train[:, 5] + params[\"B\"].item(), c=\"r\")\n",
        "plt.xlabel(\"nombre de chambres\")\n",
        "plt.ylabel('Prix')\n",
        "plt.show()"
      ],
      "metadata": {
        "colab": {
          "base_uri": "https://localhost:8080/",
          "height": 449
        },
        "id": "oJaAFuvOGZWC",
        "outputId": "05040300-e3b2-49ae-bcec-b85b303364da"
      },
      "execution_count": 71,
      "outputs": [
        {
          "output_type": "display_data",
          "data": {
            "text/plain": [
              "<Figure size 640x480 with 1 Axes>"
            ],
            "image/png": "[encoded data removed]"
          },
          "metadata": {}
        }
      ]
    },
    {
      "cell_type": "code",
      "source": [],
      "metadata": {
        "id": "FKdq5nONHHLc"
      },
      "execution_count": null,
      "outputs": []
    }
  ]
}